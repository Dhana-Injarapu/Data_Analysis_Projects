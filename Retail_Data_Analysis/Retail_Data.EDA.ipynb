{
 "cells": [
  {
   "cell_type": "markdown",
   "id": "6c5cd2da",
   "metadata": {},
   "source": [
    "### Objective: Perform EDA to find out how many customers are actually Satisfied with the Products and services provided by a Retail Company"
   ]
  },
  {
   "cell_type": "code",
   "execution_count": 45,
   "id": "63ef1267",
   "metadata": {},
   "outputs": [],
   "source": [
    "# Importing neccessary libraries\n",
    "import os\n",
    "import pandas as pd\n",
    "import numpy as np\n",
    "import matplotlib.pyplot as plt\n",
    "import seaborn as sns\n",
    "import warnings\n",
    "warnings.filterwarnings('ignore')"
   ]
  },
  {
   "cell_type": "code",
   "execution_count": 46,
   "id": "5e930a42",
   "metadata": {},
   "outputs": [
    {
     "data": {
      "text/html": [
       "<div>\n",
       "<style scoped>\n",
       "    .dataframe tbody tr th:only-of-type {\n",
       "        vertical-align: middle;\n",
       "    }\n",
       "\n",
       "    .dataframe tbody tr th {\n",
       "        vertical-align: top;\n",
       "    }\n",
       "\n",
       "    .dataframe thead th {\n",
       "        text-align: right;\n",
       "    }\n",
       "</style>\n",
       "<table border=\"1\" class=\"dataframe\">\n",
       "  <thead>\n",
       "    <tr style=\"text-align: right;\">\n",
       "      <th></th>\n",
       "      <th>order_id</th>\n",
       "      <th>customer_id</th>\n",
       "      <th>date</th>\n",
       "      <th>nearest_warehouse</th>\n",
       "      <th>shopping_cart</th>\n",
       "      <th>order_price</th>\n",
       "      <th>delivery_charges</th>\n",
       "      <th>customer_lat</th>\n",
       "      <th>customer_long</th>\n",
       "      <th>coupon_discount</th>\n",
       "      <th>order_total</th>\n",
       "      <th>season</th>\n",
       "      <th>is_expedited_delivery</th>\n",
       "      <th>distance_to_nearest_warehouse</th>\n",
       "      <th>latest_customer_review</th>\n",
       "      <th>is_happy_customer</th>\n",
       "    </tr>\n",
       "  </thead>\n",
       "  <tbody>\n",
       "    <tr>\n",
       "      <th>0</th>\n",
       "      <td>ORD182494</td>\n",
       "      <td>ID6197211592</td>\n",
       "      <td>22/06/2019</td>\n",
       "      <td>Thompson</td>\n",
       "      <td>[('Lucent 330S', 1), ('Thunder line', 2), ('iS...</td>\n",
       "      <td>12200.0</td>\n",
       "      <td>79.89</td>\n",
       "      <td>-37.815105</td>\n",
       "      <td>144.932843</td>\n",
       "      <td>10</td>\n",
       "      <td>11059.89</td>\n",
       "      <td>Winter</td>\n",
       "      <td>True</td>\n",
       "      <td>1.2800</td>\n",
       "      <td>perfect phone and trusted seller. phone itself...</td>\n",
       "      <td>True</td>\n",
       "    </tr>\n",
       "    <tr>\n",
       "      <th>1</th>\n",
       "      <td>ORD395518</td>\n",
       "      <td>ID0282825849</td>\n",
       "      <td>29/12/2019</td>\n",
       "      <td>Thompson</td>\n",
       "      <td>[('Thunder line', 1), ('Universe Note', 2)]</td>\n",
       "      <td>9080.0</td>\n",
       "      <td>62.71</td>\n",
       "      <td>-37.802736</td>\n",
       "      <td>144.951118</td>\n",
       "      <td>0</td>\n",
       "      <td>9142.71</td>\n",
       "      <td>Summer</td>\n",
       "      <td>False</td>\n",
       "      <td>1.1621</td>\n",
       "      <td>it keeps dropping calls the wifi don't work th...</td>\n",
       "      <td>False</td>\n",
       "    </tr>\n",
       "    <tr>\n",
       "      <th>2</th>\n",
       "      <td>ORD494479</td>\n",
       "      <td>ID0579391891</td>\n",
       "      <td>02/03/2019</td>\n",
       "      <td>Nickolson</td>\n",
       "      <td>[('Thunder line', 1), ('pearTV', 2)]</td>\n",
       "      <td>10670.0</td>\n",
       "      <td>65.87</td>\n",
       "      <td>-37.821302</td>\n",
       "      <td>144.957581</td>\n",
       "      <td>10</td>\n",
       "      <td>9668.87</td>\n",
       "      <td>Autumn</td>\n",
       "      <td>False</td>\n",
       "      <td>1.0949</td>\n",
       "      <td>five stars this is a great cheap phone.</td>\n",
       "      <td>True</td>\n",
       "    </tr>\n",
       "    <tr>\n",
       "      <th>3</th>\n",
       "      <td>ORD019224</td>\n",
       "      <td>ID4544561904</td>\n",
       "      <td>12/01/2019</td>\n",
       "      <td>Nickolson</td>\n",
       "      <td>[('Universe Note', 1), ('Alcon 10', 2), ('Oliv...</td>\n",
       "      <td>24800.0</td>\n",
       "      <td>57.61</td>\n",
       "      <td>-37.811416</td>\n",
       "      <td>144.973073</td>\n",
       "      <td>15</td>\n",
       "      <td>21137.61</td>\n",
       "      <td>Summer</td>\n",
       "      <td>False</td>\n",
       "      <td>0.8571</td>\n",
       "      <td>charger did not fit the charger didn't fit.</td>\n",
       "      <td>False</td>\n",
       "    </tr>\n",
       "    <tr>\n",
       "      <th>4</th>\n",
       "      <td>ORD104032</td>\n",
       "      <td>ID6231506320</td>\n",
       "      <td>28/11/2019</td>\n",
       "      <td>Nickolson</td>\n",
       "      <td>[('Universe Note', 1), ('Olivia x460', 1), ('i...</td>\n",
       "      <td>9145.0</td>\n",
       "      <td>75.54</td>\n",
       "      <td>37.823859</td>\n",
       "      <td>144.969892</td>\n",
       "      <td>25</td>\n",
       "      <td>6934.29</td>\n",
       "      <td>Spring</td>\n",
       "      <td>False</td>\n",
       "      <td>0.5867</td>\n",
       "      <td>four stars good</td>\n",
       "      <td>True</td>\n",
       "    </tr>\n",
       "  </tbody>\n",
       "</table>\n",
       "</div>"
      ],
      "text/plain": [
       "    order_id   customer_id        date nearest_warehouse  \\\n",
       "0  ORD182494  ID6197211592  22/06/2019          Thompson   \n",
       "1  ORD395518  ID0282825849  29/12/2019          Thompson   \n",
       "2  ORD494479  ID0579391891  02/03/2019         Nickolson   \n",
       "3  ORD019224  ID4544561904  12/01/2019         Nickolson   \n",
       "4  ORD104032  ID6231506320  28/11/2019         Nickolson   \n",
       "\n",
       "                                       shopping_cart  order_price  \\\n",
       "0  [('Lucent 330S', 1), ('Thunder line', 2), ('iS...      12200.0   \n",
       "1        [('Thunder line', 1), ('Universe Note', 2)]       9080.0   \n",
       "2               [('Thunder line', 1), ('pearTV', 2)]      10670.0   \n",
       "3  [('Universe Note', 1), ('Alcon 10', 2), ('Oliv...      24800.0   \n",
       "4  [('Universe Note', 1), ('Olivia x460', 1), ('i...       9145.0   \n",
       "\n",
       "   delivery_charges  customer_lat  customer_long  coupon_discount order_total  \\\n",
       "0             79.89    -37.815105     144.932843               10    11059.89   \n",
       "1             62.71    -37.802736     144.951118                0     9142.71   \n",
       "2             65.87    -37.821302     144.957581               10     9668.87   \n",
       "3             57.61    -37.811416     144.973073               15    21137.61   \n",
       "4             75.54     37.823859     144.969892               25     6934.29   \n",
       "\n",
       "   season  is_expedited_delivery  distance_to_nearest_warehouse  \\\n",
       "0  Winter                   True                         1.2800   \n",
       "1  Summer                  False                         1.1621   \n",
       "2  Autumn                  False                         1.0949   \n",
       "3  Summer                  False                         0.8571   \n",
       "4  Spring                  False                         0.5867   \n",
       "\n",
       "                              latest_customer_review is_happy_customer  \n",
       "0  perfect phone and trusted seller. phone itself...              True  \n",
       "1  it keeps dropping calls the wifi don't work th...             False  \n",
       "2            five stars this is a great cheap phone.              True  \n",
       "3        charger did not fit the charger didn't fit.             False  \n",
       "4                                    four stars good              True  "
      ]
     },
     "execution_count": 46,
     "metadata": {},
     "output_type": "execute_result"
    }
   ],
   "source": [
    "# read the data\n",
    "data= pd.read_csv(\"dirty_data.csv\")\n",
    "data.head()"
   ]
  },
  {
   "cell_type": "code",
   "execution_count": 47,
   "id": "10dc154d",
   "metadata": {},
   "outputs": [
    {
     "data": {
      "text/plain": [
       "(500, 16)"
      ]
     },
     "execution_count": 47,
     "metadata": {},
     "output_type": "execute_result"
    }
   ],
   "source": [
    "data.shape"
   ]
  },
  {
   "cell_type": "code",
   "execution_count": 48,
   "id": "c0355671",
   "metadata": {},
   "outputs": [
    {
     "data": {
      "text/html": [
       "<div>\n",
       "<style scoped>\n",
       "    .dataframe tbody tr th:only-of-type {\n",
       "        vertical-align: middle;\n",
       "    }\n",
       "\n",
       "    .dataframe tbody tr th {\n",
       "        vertical-align: top;\n",
       "    }\n",
       "\n",
       "    .dataframe thead th {\n",
       "        text-align: right;\n",
       "    }\n",
       "</style>\n",
       "<table border=\"1\" class=\"dataframe\">\n",
       "  <thead>\n",
       "    <tr style=\"text-align: right;\">\n",
       "      <th></th>\n",
       "      <th>order_price</th>\n",
       "      <th>delivery_charges</th>\n",
       "      <th>customer_lat</th>\n",
       "      <th>customer_long</th>\n",
       "      <th>coupon_discount</th>\n",
       "      <th>distance_to_nearest_warehouse</th>\n",
       "    </tr>\n",
       "  </thead>\n",
       "  <tbody>\n",
       "    <tr>\n",
       "      <th>count</th>\n",
       "      <td>498.000000</td>\n",
       "      <td>496.000000</td>\n",
       "      <td>500.000000</td>\n",
       "      <td>500.000000</td>\n",
       "      <td>500.000000</td>\n",
       "      <td>500.000000</td>\n",
       "    </tr>\n",
       "    <tr>\n",
       "      <th>mean</th>\n",
       "      <td>25585.387550</td>\n",
       "      <td>76.679819</td>\n",
       "      <td>-35.835234</td>\n",
       "      <td>144.969494</td>\n",
       "      <td>10.890000</td>\n",
       "      <td>2.204224</td>\n",
       "    </tr>\n",
       "    <tr>\n",
       "      <th>std</th>\n",
       "      <td>86501.420493</td>\n",
       "      <td>14.529621</td>\n",
       "      <td>12.045393</td>\n",
       "      <td>0.022720</td>\n",
       "      <td>8.649134</td>\n",
       "      <td>8.812416</td>\n",
       "    </tr>\n",
       "    <tr>\n",
       "      <th>min</th>\n",
       "      <td>585.000000</td>\n",
       "      <td>46.350000</td>\n",
       "      <td>-37.827123</td>\n",
       "      <td>144.924967</td>\n",
       "      <td>0.000000</td>\n",
       "      <td>0.107800</td>\n",
       "    </tr>\n",
       "    <tr>\n",
       "      <th>25%</th>\n",
       "      <td>7050.000000</td>\n",
       "      <td>65.892500</td>\n",
       "      <td>-37.818222</td>\n",
       "      <td>144.953488</td>\n",
       "      <td>5.000000</td>\n",
       "      <td>0.751425</td>\n",
       "    </tr>\n",
       "    <tr>\n",
       "      <th>50%</th>\n",
       "      <td>12865.000000</td>\n",
       "      <td>76.335000</td>\n",
       "      <td>-37.812165</td>\n",
       "      <td>144.965357</td>\n",
       "      <td>10.000000</td>\n",
       "      <td>1.030100</td>\n",
       "    </tr>\n",
       "    <tr>\n",
       "      <th>75%</th>\n",
       "      <td>20360.000000</td>\n",
       "      <td>82.817500</td>\n",
       "      <td>-37.805364</td>\n",
       "      <td>144.983985</td>\n",
       "      <td>15.000000</td>\n",
       "      <td>1.408625</td>\n",
       "    </tr>\n",
       "    <tr>\n",
       "      <th>max</th>\n",
       "      <td>947691.000000</td>\n",
       "      <td>114.040000</td>\n",
       "      <td>37.826339</td>\n",
       "      <td>145.019837</td>\n",
       "      <td>25.000000</td>\n",
       "      <td>94.973400</td>\n",
       "    </tr>\n",
       "  </tbody>\n",
       "</table>\n",
       "</div>"
      ],
      "text/plain": [
       "         order_price  delivery_charges  customer_lat  customer_long  \\\n",
       "count     498.000000        496.000000    500.000000     500.000000   \n",
       "mean    25585.387550         76.679819    -35.835234     144.969494   \n",
       "std     86501.420493         14.529621     12.045393       0.022720   \n",
       "min       585.000000         46.350000    -37.827123     144.924967   \n",
       "25%      7050.000000         65.892500    -37.818222     144.953488   \n",
       "50%     12865.000000         76.335000    -37.812165     144.965357   \n",
       "75%     20360.000000         82.817500    -37.805364     144.983985   \n",
       "max    947691.000000        114.040000     37.826339     145.019837   \n",
       "\n",
       "       coupon_discount  distance_to_nearest_warehouse  \n",
       "count       500.000000                     500.000000  \n",
       "mean         10.890000                       2.204224  \n",
       "std           8.649134                       8.812416  \n",
       "min           0.000000                       0.107800  \n",
       "25%           5.000000                       0.751425  \n",
       "50%          10.000000                       1.030100  \n",
       "75%          15.000000                       1.408625  \n",
       "max          25.000000                      94.973400  "
      ]
     },
     "execution_count": 48,
     "metadata": {},
     "output_type": "execute_result"
    }
   ],
   "source": [
    "# get the statistical description of the data\n",
    "data.describe()"
   ]
  },
  {
   "cell_type": "code",
   "execution_count": 49,
   "id": "09c5b7cf",
   "metadata": {},
   "outputs": [
    {
     "name": "stdout",
     "output_type": "stream",
     "text": [
      "<class 'pandas.core.frame.DataFrame'>\n",
      "RangeIndex: 500 entries, 0 to 499\n",
      "Data columns (total 16 columns):\n",
      " #   Column                         Non-Null Count  Dtype  \n",
      "---  ------                         --------------  -----  \n",
      " 0   order_id                       500 non-null    object \n",
      " 1   customer_id                    500 non-null    object \n",
      " 2   date                           500 non-null    object \n",
      " 3   nearest_warehouse              500 non-null    object \n",
      " 4   shopping_cart                  500 non-null    object \n",
      " 5   order_price                    498 non-null    float64\n",
      " 6   delivery_charges               496 non-null    float64\n",
      " 7   customer_lat                   500 non-null    float64\n",
      " 8   customer_long                  500 non-null    float64\n",
      " 9   coupon_discount                500 non-null    int64  \n",
      " 10  order_total                    500 non-null    object \n",
      " 11  season                         500 non-null    object \n",
      " 12  is_expedited_delivery          500 non-null    bool   \n",
      " 13  distance_to_nearest_warehouse  500 non-null    float64\n",
      " 14  latest_customer_review         500 non-null    object \n",
      " 15  is_happy_customer              496 non-null    object \n",
      "dtypes: bool(1), float64(5), int64(1), object(9)\n",
      "memory usage: 59.2+ KB\n"
     ]
    }
   ],
   "source": [
    "data.info()"
   ]
  },
  {
   "cell_type": "code",
   "execution_count": 50,
   "id": "f02b556c",
   "metadata": {},
   "outputs": [
    {
     "data": {
      "text/plain": [
       "order_id                         0\n",
       "customer_id                      0\n",
       "date                             0\n",
       "nearest_warehouse                0\n",
       "shopping_cart                    0\n",
       "order_price                      2\n",
       "delivery_charges                 4\n",
       "customer_lat                     0\n",
       "customer_long                    0\n",
       "coupon_discount                  0\n",
       "order_total                      0\n",
       "season                           0\n",
       "is_expedited_delivery            0\n",
       "distance_to_nearest_warehouse    0\n",
       "latest_customer_review           0\n",
       "is_happy_customer                4\n",
       "dtype: int64"
      ]
     },
     "execution_count": 50,
     "metadata": {},
     "output_type": "execute_result"
    }
   ],
   "source": [
    "data.isnull().sum()"
   ]
  },
  {
   "cell_type": "markdown",
   "id": "33456b6a",
   "metadata": {},
   "source": [
    "# Box plot with null values"
   ]
  },
  {
   "cell_type": "code",
   "execution_count": 51,
   "id": "a0f50077",
   "metadata": {},
   "outputs": [
    {
     "data": {
      "image/png": "[encoded data removed]",
      "text/plain": [
       "<Figure size 720x576 with 1 Axes>"
      ]
     },
     "metadata": {
      "needs_background": "light"
     },
     "output_type": "display_data"
    }
   ],
   "source": [
    "plt.figure(figsize=(10,8))\n",
    "data.boxplot(column=['order_price','delivery_charges'])\n",
    "plt.title('Box Plot of Columns with Null Values')\n",
    "plt.xlabel('Columns')\n",
    "plt.ylabel('Values')\n",
    "plt.show()\n"
   ]
  },
  {
   "cell_type": "code",
   "execution_count": 52,
   "id": "8161da3c",
   "metadata": {},
   "outputs": [],
   "source": [
    "# since order price has some outliers,null values of order price will be replaced with median\n",
    "data['order_price']=data['order_price'].fillna(data['order_price'].median())"
   ]
  },
  {
   "cell_type": "code",
   "execution_count": 53,
   "id": "f8819c1c",
   "metadata": {},
   "outputs": [],
   "source": [
    "#Replacing null values with mean\n",
    "data['delivery_charges']=data['delivery_charges'].fillna(data['delivery_charges'].mean())"
   ]
  },
  {
   "cell_type": "code",
   "execution_count": 54,
   "id": "5d71e189",
   "metadata": {},
   "outputs": [],
   "source": [
    "#Replacing null values with mode\n",
    "data['is_happy_customer']=data['is_happy_customer'].fillna(data['is_happy_customer'].mode()[0])"
   ]
  },
  {
   "cell_type": "code",
   "execution_count": 55,
   "id": "d1068dda",
   "metadata": {},
   "outputs": [
    {
     "data": {
      "text/plain": [
       "order_id                         0\n",
       "customer_id                      0\n",
       "date                             0\n",
       "nearest_warehouse                0\n",
       "shopping_cart                    0\n",
       "order_price                      0\n",
       "delivery_charges                 0\n",
       "customer_lat                     0\n",
       "customer_long                    0\n",
       "coupon_discount                  0\n",
       "order_total                      0\n",
       "season                           0\n",
       "is_expedited_delivery            0\n",
       "distance_to_nearest_warehouse    0\n",
       "latest_customer_review           0\n",
       "is_happy_customer                0\n",
       "dtype: int64"
      ]
     },
     "execution_count": 55,
     "metadata": {},
     "output_type": "execute_result"
    }
   ],
   "source": [
    "data.isnull().sum()"
   ]
  },
  {
   "cell_type": "code",
   "execution_count": 56,
   "id": "857f2491",
   "metadata": {},
   "outputs": [
    {
     "data": {
      "text/plain": [
       "order_id                          object\n",
       "customer_id                       object\n",
       "date                              object\n",
       "nearest_warehouse                 object\n",
       "shopping_cart                     object\n",
       "order_price                      float64\n",
       "delivery_charges                 float64\n",
       "customer_lat                     float64\n",
       "customer_long                    float64\n",
       "coupon_discount                    int64\n",
       "order_total                       object\n",
       "season                            object\n",
       "is_expedited_delivery               bool\n",
       "distance_to_nearest_warehouse    float64\n",
       "latest_customer_review            object\n",
       "is_happy_customer                   bool\n",
       "dtype: object"
      ]
     },
     "execution_count": 56,
     "metadata": {},
     "output_type": "execute_result"
    }
   ],
   "source": [
    "data.dtypes"
   ]
  },
  {
   "cell_type": "markdown",
   "id": "dbaeecbf",
   "metadata": {},
   "source": [
    "### Date Type conversion "
   ]
  },
  {
   "cell_type": "code",
   "execution_count": 57,
   "id": "0d87fa37",
   "metadata": {},
   "outputs": [],
   "source": [
    "data['date']=pd.to_datetime(data['date'])"
   ]
  },
  {
   "cell_type": "code",
   "execution_count": 58,
   "id": "a5f714e1",
   "metadata": {},
   "outputs": [
    {
     "data": {
      "text/plain": [
       "order_id                                 object\n",
       "customer_id                              object\n",
       "date                             datetime64[ns]\n",
       "nearest_warehouse                        object\n",
       "shopping_cart                            object\n",
       "order_price                             float64\n",
       "delivery_charges                        float64\n",
       "customer_lat                            float64\n",
       "customer_long                           float64\n",
       "coupon_discount                           int64\n",
       "order_total                              object\n",
       "season                                   object\n",
       "is_expedited_delivery                      bool\n",
       "distance_to_nearest_warehouse           float64\n",
       "latest_customer_review                   object\n",
       "is_happy_customer                          bool\n",
       "dtype: object"
      ]
     },
     "execution_count": 58,
     "metadata": {},
     "output_type": "execute_result"
    }
   ],
   "source": [
    "data.dtypes"
   ]
  },
  {
   "cell_type": "code",
   "execution_count": 59,
   "id": "2321502a",
   "metadata": {},
   "outputs": [
    {
     "data": {
      "text/plain": [
       "True"
      ]
     },
     "execution_count": 59,
     "metadata": {},
     "output_type": "execute_result"
    }
   ],
   "source": [
    "data.order_id.is_unique"
   ]
  },
  {
   "cell_type": "code",
   "execution_count": 60,
   "id": "feae5cb6",
   "metadata": {},
   "outputs": [
    {
     "data": {
      "text/plain": [
       "array(['Thompson', 'Nickolson', 'Bakers', 'nickolson', 'thompson',\n",
       "       'Thompson911', '1211Bakers', 'Nick123olson'], dtype=object)"
      ]
     },
     "execution_count": 60,
     "metadata": {},
     "output_type": "execute_result"
    }
   ],
   "source": [
    "data.nearest_warehouse.unique()"
   ]
  },
  {
   "cell_type": "markdown",
   "id": "b5c4b127",
   "metadata": {},
   "source": [
    "### Using Regular Expression to clean the data"
   ]
  },
  {
   "cell_type": "code",
   "execution_count": 61,
   "id": "cfe10c38",
   "metadata": {},
   "outputs": [
    {
     "data": {
      "text/html": [
       "<div>\n",
       "<style scoped>\n",
       "    .dataframe tbody tr th:only-of-type {\n",
       "        vertical-align: middle;\n",
       "    }\n",
       "\n",
       "    .dataframe tbody tr th {\n",
       "        vertical-align: top;\n",
       "    }\n",
       "\n",
       "    .dataframe thead th {\n",
       "        text-align: right;\n",
       "    }\n",
       "</style>\n",
       "<table border=\"1\" class=\"dataframe\">\n",
       "  <thead>\n",
       "    <tr style=\"text-align: right;\">\n",
       "      <th></th>\n",
       "      <th>order_id</th>\n",
       "      <th>customer_id</th>\n",
       "      <th>date</th>\n",
       "      <th>nearest_warehouse</th>\n",
       "      <th>shopping_cart</th>\n",
       "      <th>order_price</th>\n",
       "      <th>delivery_charges</th>\n",
       "      <th>customer_lat</th>\n",
       "      <th>customer_long</th>\n",
       "      <th>coupon_discount</th>\n",
       "      <th>order_total</th>\n",
       "      <th>season</th>\n",
       "      <th>is_expedited_delivery</th>\n",
       "      <th>distance_to_nearest_warehouse</th>\n",
       "      <th>latest_customer_review</th>\n",
       "      <th>is_happy_customer</th>\n",
       "    </tr>\n",
       "  </thead>\n",
       "  <tbody>\n",
       "    <tr>\n",
       "      <th>426</th>\n",
       "      <td>ORD057375</td>\n",
       "      <td>ID0710001161</td>\n",
       "      <td>2019-03-02</td>\n",
       "      <td>Thompson911</td>\n",
       "      <td>[('Thunder line', 1), ('Alcon 10', 1), ('Candl...</td>\n",
       "      <td>18460.0</td>\n",
       "      <td>93.52</td>\n",
       "      <td>-37.813736</td>\n",
       "      <td>144.936811</td>\n",
       "      <td>25</td>\n",
       "      <td>665085.66</td>\n",
       "      <td>Summer</td>\n",
       "      <td>True</td>\n",
       "      <td>0.9098</td>\n",
       "      <td>best buy i've made on digico functions properl...</td>\n",
       "      <td>True</td>\n",
       "    </tr>\n",
       "    <tr>\n",
       "      <th>467</th>\n",
       "      <td>ORD144784</td>\n",
       "      <td>ID0333901582</td>\n",
       "      <td>2019-09-11</td>\n",
       "      <td>1211Bakers</td>\n",
       "      <td>[('Olivia x460', 2), ('Lucent 330S', 2)]</td>\n",
       "      <td>4910.0</td>\n",
       "      <td>108.87</td>\n",
       "      <td>-37.801844</td>\n",
       "      <td>144.981358</td>\n",
       "      <td>25</td>\n",
       "      <td>3791.37</td>\n",
       "      <td>Autumn</td>\n",
       "      <td>True</td>\n",
       "      <td>1.5207</td>\n",
       "      <td>turned our old tv into a smart tv. really easy...</td>\n",
       "      <td>True</td>\n",
       "    </tr>\n",
       "    <tr>\n",
       "      <th>494</th>\n",
       "      <td>ORD379700</td>\n",
       "      <td>ID2190564628</td>\n",
       "      <td>2019-05-08</td>\n",
       "      <td>Nick123olson</td>\n",
       "      <td>[('Candle Inferno', 1), ('Alcon 10', 1), ('Luc...</td>\n",
       "      <td>17510.0</td>\n",
       "      <td>75.37</td>\n",
       "      <td>-37.816209</td>\n",
       "      <td>144.964057</td>\n",
       "      <td>5</td>\n",
       "      <td>16709.87</td>\n",
       "      <td>Winter</td>\n",
       "      <td>True</td>\n",
       "      <td>0.5513</td>\n",
       "      <td>good quality price ratio bought it for my mom,...</td>\n",
       "      <td>True</td>\n",
       "    </tr>\n",
       "  </tbody>\n",
       "</table>\n",
       "</div>"
      ],
      "text/plain": [
       "      order_id   customer_id       date nearest_warehouse  \\\n",
       "426  ORD057375  ID0710001161 2019-03-02       Thompson911   \n",
       "467  ORD144784  ID0333901582 2019-09-11        1211Bakers   \n",
       "494  ORD379700  ID2190564628 2019-05-08      Nick123olson   \n",
       "\n",
       "                                         shopping_cart  order_price  \\\n",
       "426  [('Thunder line', 1), ('Alcon 10', 1), ('Candl...      18460.0   \n",
       "467           [('Olivia x460', 2), ('Lucent 330S', 2)]       4910.0   \n",
       "494  [('Candle Inferno', 1), ('Alcon 10', 1), ('Luc...      17510.0   \n",
       "\n",
       "     delivery_charges  customer_lat  customer_long  coupon_discount  \\\n",
       "426             93.52    -37.813736     144.936811               25   \n",
       "467            108.87    -37.801844     144.981358               25   \n",
       "494             75.37    -37.816209     144.964057                5   \n",
       "\n",
       "    order_total  season  is_expedited_delivery  distance_to_nearest_warehouse  \\\n",
       "426   665085.66  Summer                   True                         0.9098   \n",
       "467     3791.37  Autumn                   True                         1.5207   \n",
       "494    16709.87  Winter                   True                         0.5513   \n",
       "\n",
       "                                latest_customer_review  is_happy_customer  \n",
       "426  best buy i've made on digico functions properl...               True  \n",
       "467  turned our old tv into a smart tv. really easy...               True  \n",
       "494  good quality price ratio bought it for my mom,...               True  "
      ]
     },
     "execution_count": 61,
     "metadata": {},
     "output_type": "execute_result"
    }
   ],
   "source": [
    "pattern='\\d+'\n",
    "pat_bool=data.nearest_warehouse.str.contains(pattern,regex=True)\n",
    "result=data[pat_bool]\n",
    "result"
   ]
  },
  {
   "cell_type": "code",
   "execution_count": 62,
   "id": "5c84b9a4",
   "metadata": {},
   "outputs": [],
   "source": [
    "#Replacing the numbers with nothing\n",
    "data['nearest_warehouse']=data.nearest_warehouse.str.replace('\\d+','')"
   ]
  },
  {
   "cell_type": "code",
   "execution_count": 63,
   "id": "9a144ba3",
   "metadata": {},
   "outputs": [
    {
     "data": {
      "text/html": [
       "<div>\n",
       "<style scoped>\n",
       "    .dataframe tbody tr th:only-of-type {\n",
       "        vertical-align: middle;\n",
       "    }\n",
       "\n",
       "    .dataframe tbody tr th {\n",
       "        vertical-align: top;\n",
       "    }\n",
       "\n",
       "    .dataframe thead th {\n",
       "        text-align: right;\n",
       "    }\n",
       "</style>\n",
       "<table border=\"1\" class=\"dataframe\">\n",
       "  <thead>\n",
       "    <tr style=\"text-align: right;\">\n",
       "      <th></th>\n",
       "      <th>order_id</th>\n",
       "      <th>customer_id</th>\n",
       "      <th>date</th>\n",
       "      <th>nearest_warehouse</th>\n",
       "      <th>shopping_cart</th>\n",
       "      <th>order_price</th>\n",
       "      <th>delivery_charges</th>\n",
       "      <th>customer_lat</th>\n",
       "      <th>customer_long</th>\n",
       "      <th>coupon_discount</th>\n",
       "      <th>order_total</th>\n",
       "      <th>season</th>\n",
       "      <th>is_expedited_delivery</th>\n",
       "      <th>distance_to_nearest_warehouse</th>\n",
       "      <th>latest_customer_review</th>\n",
       "      <th>is_happy_customer</th>\n",
       "    </tr>\n",
       "  </thead>\n",
       "  <tbody>\n",
       "  </tbody>\n",
       "</table>\n",
       "</div>"
      ],
      "text/plain": [
       "Empty DataFrame\n",
       "Columns: [order_id, customer_id, date, nearest_warehouse, shopping_cart, order_price, delivery_charges, customer_lat, customer_long, coupon_discount, order_total, season, is_expedited_delivery, distance_to_nearest_warehouse, latest_customer_review, is_happy_customer]\n",
       "Index: []"
      ]
     },
     "execution_count": 63,
     "metadata": {},
     "output_type": "execute_result"
    }
   ],
   "source": [
    "pattern='\\d+'\n",
    "pat_bool=data.nearest_warehouse.str.contains(pattern,regex=True)\n",
    "result=data[pat_bool]\n",
    "result"
   ]
  },
  {
   "cell_type": "code",
   "execution_count": 64,
   "id": "7fb1b89e",
   "metadata": {},
   "outputs": [],
   "source": [
    "data['nearest_warehouse']=data['nearest_warehouse'].str.title()"
   ]
  },
  {
   "cell_type": "code",
   "execution_count": 65,
   "id": "a3607587",
   "metadata": {},
   "outputs": [
    {
     "data": {
      "text/plain": [
       "array(['Thompson', 'Nickolson', 'Bakers'], dtype=object)"
      ]
     },
     "execution_count": 65,
     "metadata": {},
     "output_type": "execute_result"
    }
   ],
   "source": [
    "data['nearest_warehouse'].unique()"
   ]
  },
  {
   "cell_type": "code",
   "execution_count": 66,
   "id": "307b5f04",
   "metadata": {},
   "outputs": [
    {
     "data": {
      "text/plain": [
       "Thompson     197\n",
       "Nickolson    184\n",
       "Bakers       119\n",
       "Name: nearest_warehouse, dtype: int64"
      ]
     },
     "execution_count": 66,
     "metadata": {},
     "output_type": "execute_result"
    }
   ],
   "source": [
    "#lets count the unique values\n",
    "data['nearest_warehouse'].value_counts()"
   ]
  },
  {
   "cell_type": "code",
   "execution_count": 67,
   "id": "0b979c7f",
   "metadata": {},
   "outputs": [
    {
     "data": {
      "text/plain": [
       "dtype('O')"
      ]
     },
     "execution_count": 67,
     "metadata": {},
     "output_type": "execute_result"
    }
   ],
   "source": [
    "data['order_total'].dtypes"
   ]
  },
  {
   "cell_type": "code",
   "execution_count": 68,
   "id": "6a6e31ab",
   "metadata": {},
   "outputs": [],
   "source": [
    "#data['order_total'].astype('float')"
   ]
  },
  {
   "cell_type": "code",
   "execution_count": 69,
   "id": "493f1e24",
   "metadata": {},
   "outputs": [
    {
     "data": {
      "text/plain": [
       "8      229sav58.58\n",
       "38    116r@RR20.28\n",
       "77    28GG^&056.18\n",
       "Name: order_total, dtype: object"
      ]
     },
     "execution_count": 69,
     "metadata": {},
     "output_type": "execute_result"
    }
   ],
   "source": [
    "#checking whether order_total contains alphabets or not\n",
    "pattern='[a-zA-Z]'\n",
    "pat_bool=data['order_total'].str.contains(pattern,regex=True)\n",
    "result=data[pat_bool]\n",
    "result['order_total']"
   ]
  },
  {
   "cell_type": "code",
   "execution_count": 70,
   "id": "34ef3a2c",
   "metadata": {},
   "outputs": [],
   "source": [
    "data['order_total']=data['order_total'].str.replace('[^0-9.]',\"\")"
   ]
  },
  {
   "cell_type": "code",
   "execution_count": 71,
   "id": "381731ae",
   "metadata": {},
   "outputs": [
    {
     "data": {
      "text/plain": [
       "Series([], Name: order_total, dtype: object)"
      ]
     },
     "execution_count": 71,
     "metadata": {},
     "output_type": "execute_result"
    }
   ],
   "source": [
    "pattern='[a-zA-Z]'\n",
    "pat_bool=data['order_total'].str.contains(pattern,regex=True)\n",
    "result=data[pat_bool]\n",
    "result['order_total']"
   ]
  },
  {
   "cell_type": "code",
   "execution_count": 72,
   "id": "e0ef1870",
   "metadata": {},
   "outputs": [],
   "source": [
    "data['order_total']=data['order_total'].astype('float')"
   ]
  },
  {
   "cell_type": "code",
   "execution_count": 73,
   "id": "6c646963",
   "metadata": {},
   "outputs": [
    {
     "name": "stdout",
     "output_type": "stream",
     "text": [
      "<class 'pandas.core.frame.DataFrame'>\n",
      "RangeIndex: 500 entries, 0 to 499\n",
      "Data columns (total 16 columns):\n",
      " #   Column                         Non-Null Count  Dtype         \n",
      "---  ------                         --------------  -----         \n",
      " 0   order_id                       500 non-null    object        \n",
      " 1   customer_id                    500 non-null    object        \n",
      " 2   date                           500 non-null    datetime64[ns]\n",
      " 3   nearest_warehouse              500 non-null    object        \n",
      " 4   shopping_cart                  500 non-null    object        \n",
      " 5   order_price                    500 non-null    float64       \n",
      " 6   delivery_charges               500 non-null    float64       \n",
      " 7   customer_lat                   500 non-null    float64       \n",
      " 8   customer_long                  500 non-null    float64       \n",
      " 9   coupon_discount                500 non-null    int64         \n",
      " 10  order_total                    500 non-null    float64       \n",
      " 11  season                         500 non-null    object        \n",
      " 12  is_expedited_delivery          500 non-null    bool          \n",
      " 13  distance_to_nearest_warehouse  500 non-null    float64       \n",
      " 14  latest_customer_review         500 non-null    object        \n",
      " 15  is_happy_customer              500 non-null    bool          \n",
      "dtypes: bool(2), datetime64[ns](1), float64(6), int64(1), object(6)\n",
      "memory usage: 55.8+ KB\n"
     ]
    }
   ],
   "source": [
    "data.info()"
   ]
  },
  {
   "cell_type": "code",
   "execution_count": 74,
   "id": "c6dfa5b2",
   "metadata": {},
   "outputs": [
    {
     "data": {
      "text/plain": [
       "array(['Winter', 'Summer', 'Autumn', 'Spring', 'winter', 'spring',\n",
       "       'autumn', 'summer'], dtype=object)"
      ]
     },
     "execution_count": 74,
     "metadata": {},
     "output_type": "execute_result"
    }
   ],
   "source": [
    "data.season.unique()"
   ]
  },
  {
   "cell_type": "code",
   "execution_count": 75,
   "id": "793c537d",
   "metadata": {},
   "outputs": [],
   "source": [
    "data['season']=data.season.str.title()"
   ]
  },
  {
   "cell_type": "code",
   "execution_count": 76,
   "id": "bbe49683",
   "metadata": {},
   "outputs": [
    {
     "data": {
      "text/plain": [
       "array(['Winter', 'Summer', 'Autumn', 'Spring'], dtype=object)"
      ]
     },
     "execution_count": 76,
     "metadata": {},
     "output_type": "execute_result"
    }
   ],
   "source": [
    "data.season.unique()"
   ]
  },
  {
   "cell_type": "code",
   "execution_count": 77,
   "id": "beb4c668",
   "metadata": {},
   "outputs": [
    {
     "data": {
      "text/plain": [
       "Spring    134\n",
       "Autumn    127\n",
       "Summer    124\n",
       "Winter    115\n",
       "Name: season, dtype: int64"
      ]
     },
     "execution_count": 77,
     "metadata": {},
     "output_type": "execute_result"
    }
   ],
   "source": [
    "data.season.value_counts()"
   ]
  },
  {
   "cell_type": "code",
   "execution_count": 78,
   "id": "68046867",
   "metadata": {},
   "outputs": [
    {
     "data": {
      "text/plain": [
       "array([ True, False])"
      ]
     },
     "execution_count": 78,
     "metadata": {},
     "output_type": "execute_result"
    }
   ],
   "source": [
    "data.is_expedited_delivery.unique()"
   ]
  },
  {
   "cell_type": "code",
   "execution_count": 79,
   "id": "dc57bf6f",
   "metadata": {},
   "outputs": [
    {
     "data": {
      "text/plain": [
       "False    251\n",
       "True     249\n",
       "Name: is_expedited_delivery, dtype: int64"
      ]
     },
     "execution_count": 79,
     "metadata": {},
     "output_type": "execute_result"
    }
   ],
   "source": [
    "data.is_expedited_delivery.value_counts()"
   ]
  },
  {
   "cell_type": "code",
   "execution_count": 80,
   "id": "c34caa81",
   "metadata": {},
   "outputs": [
    {
     "data": {
      "text/plain": [
       "array([ True, False])"
      ]
     },
     "execution_count": 80,
     "metadata": {},
     "output_type": "execute_result"
    }
   ],
   "source": [
    "data.is_happy_customer.unique()"
   ]
  },
  {
   "cell_type": "code",
   "execution_count": 81,
   "id": "11784f63",
   "metadata": {},
   "outputs": [
    {
     "data": {
      "text/plain": [
       "True     360\n",
       "False    140\n",
       "Name: is_happy_customer, dtype: int64"
      ]
     },
     "execution_count": 81,
     "metadata": {},
     "output_type": "execute_result"
    }
   ],
   "source": [
    "data.is_happy_customer.value_counts()"
   ]
  },
  {
   "cell_type": "markdown",
   "id": "9b7aa407",
   "metadata": {},
   "source": [
    "### Bar chart for warehouse"
   ]
  },
  {
   "cell_type": "code",
   "execution_count": 82,
   "id": "4d4ad8f7",
   "metadata": {},
   "outputs": [
    {
     "data": {
      "text/plain": [
       "Text(0, 0.5, 'counts')"
      ]
     },
     "execution_count": 82,
     "metadata": {},
     "output_type": "execute_result"
    },
    {
     "data": {
      "image/png": "[encoded data removed]",
      "text/plain": [
       "<Figure size 720x360 with 1 Axes>"
      ]
     },
     "metadata": {
      "needs_background": "light"
     },
     "output_type": "display_data"
    }
   ],
   "source": [
    "warehouse=data['nearest_warehouse'].value_counts()\n",
    "warehouse.plot(kind='bar',figsize=(10,5),color=['r','g','b'],rot=1)\n",
    "plt.title(\"Quantity of warehouses\",size=15)\n",
    "plt.ylabel(\"counts\")"
   ]
  },
  {
   "cell_type": "markdown",
   "id": "59f4c45c",
   "metadata": {},
   "source": [
    "### Pie chart to check percentage of warehouses share"
   ]
  },
  {
   "cell_type": "code",
   "execution_count": 83,
   "id": "7115ce4e",
   "metadata": {},
   "outputs": [
    {
     "data": {
      "image/png": "[encoded data removed]",
      "text/plain": [
       "<Figure size 432x288 with 1 Axes>"
      ]
     },
     "metadata": {},
     "output_type": "display_data"
    }
   ],
   "source": [
    "plt.pie(warehouse,labels=['Thompson','Nickolson','Bakers'],autopct='%0.1f%%',explode=[0,0,0.1],startangle=60,radius=1)\n",
    "plt.title(\"Quantity of warehouses\", size=15)\n",
    "plt.show()"
   ]
  },
  {
   "cell_type": "markdown",
   "id": "08517298",
   "metadata": {},
   "source": [
    "### Analyzing order_price and order_total"
   ]
  },
  {
   "cell_type": "code",
   "execution_count": 84,
   "id": "8ddcff43",
   "metadata": {},
   "outputs": [],
   "source": [
    "#order_price before any discounts and delivery charges \n",
    "#rder_total: Price after all discounts and/or delivery charges are applied"
   ]
  },
  {
   "cell_type": "code",
   "execution_count": 85,
   "id": "cd22860c",
   "metadata": {},
   "outputs": [
    {
     "data": {
      "text/html": [
       "<div>\n",
       "<style scoped>\n",
       "    .dataframe tbody tr th:only-of-type {\n",
       "        vertical-align: middle;\n",
       "    }\n",
       "\n",
       "    .dataframe tbody tr th {\n",
       "        vertical-align: top;\n",
       "    }\n",
       "\n",
       "    .dataframe thead th {\n",
       "        text-align: right;\n",
       "    }\n",
       "</style>\n",
       "<table border=\"1\" class=\"dataframe\">\n",
       "  <thead>\n",
       "    <tr style=\"text-align: right;\">\n",
       "      <th></th>\n",
       "      <th>order_id</th>\n",
       "      <th>customer_id</th>\n",
       "      <th>date</th>\n",
       "      <th>nearest_warehouse</th>\n",
       "      <th>shopping_cart</th>\n",
       "      <th>order_price</th>\n",
       "      <th>delivery_charges</th>\n",
       "      <th>customer_lat</th>\n",
       "      <th>customer_long</th>\n",
       "      <th>coupon_discount</th>\n",
       "      <th>order_total</th>\n",
       "      <th>season</th>\n",
       "      <th>is_expedited_delivery</th>\n",
       "      <th>distance_to_nearest_warehouse</th>\n",
       "      <th>latest_customer_review</th>\n",
       "      <th>is_happy_customer</th>\n",
       "    </tr>\n",
       "  </thead>\n",
       "  <tbody>\n",
       "    <tr>\n",
       "      <th>308</th>\n",
       "      <td>ORD165713</td>\n",
       "      <td>ID2384157684</td>\n",
       "      <td>2019-11-23</td>\n",
       "      <td>Bakers</td>\n",
       "      <td>[('iStream', 2), ('Candle Inferno', 1)]</td>\n",
       "      <td>585.0</td>\n",
       "      <td>91.79</td>\n",
       "      <td>-37.800798</td>\n",
       "      <td>145.005428</td>\n",
       "      <td>25</td>\n",
       "      <td>639.29</td>\n",
       "      <td>Spring</td>\n",
       "      <td>True</td>\n",
       "      <td>1.361</td>\n",
       "      <td>junk had this thing for less than 2 months. ha...</td>\n",
       "      <td>False</td>\n",
       "    </tr>\n",
       "  </tbody>\n",
       "</table>\n",
       "</div>"
      ],
      "text/plain": [
       "      order_id   customer_id       date nearest_warehouse  \\\n",
       "308  ORD165713  ID2384157684 2019-11-23            Bakers   \n",
       "\n",
       "                               shopping_cart  order_price  delivery_charges  \\\n",
       "308  [('iStream', 2), ('Candle Inferno', 1)]        585.0             91.79   \n",
       "\n",
       "     customer_lat  customer_long  coupon_discount  order_total  season  \\\n",
       "308    -37.800798     145.005428               25       639.29  Spring   \n",
       "\n",
       "     is_expedited_delivery  distance_to_nearest_warehouse  \\\n",
       "308                   True                          1.361   \n",
       "\n",
       "                                latest_customer_review  is_happy_customer  \n",
       "308  junk had this thing for less than 2 months. ha...              False  "
      ]
     },
     "execution_count": 85,
     "metadata": {},
     "output_type": "execute_result"
    }
   ],
   "source": [
    "# minimum order_price\n",
    "data[data['order_price']==data['order_price'].min()]"
   ]
  },
  {
   "cell_type": "code",
   "execution_count": 86,
   "id": "6a9418cb",
   "metadata": {},
   "outputs": [
    {
     "data": {
      "text/html": [
       "<div>\n",
       "<style scoped>\n",
       "    .dataframe tbody tr th:only-of-type {\n",
       "        vertical-align: middle;\n",
       "    }\n",
       "\n",
       "    .dataframe tbody tr th {\n",
       "        vertical-align: top;\n",
       "    }\n",
       "\n",
       "    .dataframe thead th {\n",
       "        text-align: right;\n",
       "    }\n",
       "</style>\n",
       "<table border=\"1\" class=\"dataframe\">\n",
       "  <thead>\n",
       "    <tr style=\"text-align: right;\">\n",
       "      <th></th>\n",
       "      <th>order_id</th>\n",
       "      <th>customer_id</th>\n",
       "      <th>date</th>\n",
       "      <th>nearest_warehouse</th>\n",
       "      <th>shopping_cart</th>\n",
       "      <th>order_price</th>\n",
       "      <th>delivery_charges</th>\n",
       "      <th>customer_lat</th>\n",
       "      <th>customer_long</th>\n",
       "      <th>coupon_discount</th>\n",
       "      <th>order_total</th>\n",
       "      <th>season</th>\n",
       "      <th>is_expedited_delivery</th>\n",
       "      <th>distance_to_nearest_warehouse</th>\n",
       "      <th>latest_customer_review</th>\n",
       "      <th>is_happy_customer</th>\n",
       "    </tr>\n",
       "  </thead>\n",
       "  <tbody>\n",
       "    <tr>\n",
       "      <th>335</th>\n",
       "      <td>ORD116440</td>\n",
       "      <td>ID0332546017</td>\n",
       "      <td>2019-12-31</td>\n",
       "      <td>Thompson</td>\n",
       "      <td>[('Lucent 330S', 1), ('iAssist Line', 1), ('Ca...</td>\n",
       "      <td>947691.0</td>\n",
       "      <td>90.82</td>\n",
       "      <td>-37.809368</td>\n",
       "      <td>144.949342</td>\n",
       "      <td>10</td>\n",
       "      <td>9266.32</td>\n",
       "      <td>Summer</td>\n",
       "      <td>True</td>\n",
       "      <td>0.4187</td>\n",
       "      <td>work fine great product and no issues.</td>\n",
       "      <td>True</td>\n",
       "    </tr>\n",
       "  </tbody>\n",
       "</table>\n",
       "</div>"
      ],
      "text/plain": [
       "      order_id   customer_id       date nearest_warehouse  \\\n",
       "335  ORD116440  ID0332546017 2019-12-31          Thompson   \n",
       "\n",
       "                                         shopping_cart  order_price  \\\n",
       "335  [('Lucent 330S', 1), ('iAssist Line', 1), ('Ca...     947691.0   \n",
       "\n",
       "     delivery_charges  customer_lat  customer_long  coupon_discount  \\\n",
       "335             90.82    -37.809368     144.949342               10   \n",
       "\n",
       "     order_total  season  is_expedited_delivery  \\\n",
       "335      9266.32  Summer                   True   \n",
       "\n",
       "     distance_to_nearest_warehouse                  latest_customer_review  \\\n",
       "335                         0.4187  work fine great product and no issues.   \n",
       "\n",
       "     is_happy_customer  \n",
       "335               True  "
      ]
     },
     "execution_count": 86,
     "metadata": {},
     "output_type": "execute_result"
    }
   ],
   "source": [
    "#maximum order_price\n",
    "data[data['order_price']==data['order_price'].max()]"
   ]
  },
  {
   "cell_type": "code",
   "execution_count": 87,
   "id": "c77c3958",
   "metadata": {},
   "outputs": [
    {
     "data": {
      "text/html": [
       "<div>\n",
       "<style scoped>\n",
       "    .dataframe tbody tr th:only-of-type {\n",
       "        vertical-align: middle;\n",
       "    }\n",
       "\n",
       "    .dataframe tbody tr th {\n",
       "        vertical-align: top;\n",
       "    }\n",
       "\n",
       "    .dataframe thead th {\n",
       "        text-align: right;\n",
       "    }\n",
       "</style>\n",
       "<table border=\"1\" class=\"dataframe\">\n",
       "  <thead>\n",
       "    <tr style=\"text-align: right;\">\n",
       "      <th></th>\n",
       "      <th>order_price</th>\n",
       "      <th>delivery_charges</th>\n",
       "      <th>coupon_discount</th>\n",
       "      <th>order_total</th>\n",
       "    </tr>\n",
       "  </thead>\n",
       "  <tbody>\n",
       "    <tr>\n",
       "      <th>0</th>\n",
       "      <td>12200.0</td>\n",
       "      <td>79.89</td>\n",
       "      <td>10</td>\n",
       "      <td>11059.89</td>\n",
       "    </tr>\n",
       "    <tr>\n",
       "      <th>1</th>\n",
       "      <td>9080.0</td>\n",
       "      <td>62.71</td>\n",
       "      <td>0</td>\n",
       "      <td>9142.71</td>\n",
       "    </tr>\n",
       "    <tr>\n",
       "      <th>2</th>\n",
       "      <td>10670.0</td>\n",
       "      <td>65.87</td>\n",
       "      <td>10</td>\n",
       "      <td>9668.87</td>\n",
       "    </tr>\n",
       "    <tr>\n",
       "      <th>3</th>\n",
       "      <td>24800.0</td>\n",
       "      <td>57.61</td>\n",
       "      <td>15</td>\n",
       "      <td>21137.61</td>\n",
       "    </tr>\n",
       "    <tr>\n",
       "      <th>4</th>\n",
       "      <td>9145.0</td>\n",
       "      <td>75.54</td>\n",
       "      <td>25</td>\n",
       "      <td>6934.29</td>\n",
       "    </tr>\n",
       "    <tr>\n",
       "      <th>5</th>\n",
       "      <td>7810.0</td>\n",
       "      <td>71.22</td>\n",
       "      <td>10</td>\n",
       "      <td>7100.22</td>\n",
       "    </tr>\n",
       "    <tr>\n",
       "      <th>6</th>\n",
       "      <td>13700.0</td>\n",
       "      <td>74.84</td>\n",
       "      <td>5</td>\n",
       "      <td>13089.84</td>\n",
       "    </tr>\n",
       "    <tr>\n",
       "      <th>7</th>\n",
       "      <td>7960.0</td>\n",
       "      <td>52.28</td>\n",
       "      <td>5</td>\n",
       "      <td>10789.79</td>\n",
       "    </tr>\n",
       "    <tr>\n",
       "      <th>8</th>\n",
       "      <td>25390.0</td>\n",
       "      <td>107.58</td>\n",
       "      <td>10</td>\n",
       "      <td>22958.58</td>\n",
       "    </tr>\n",
       "    <tr>\n",
       "      <th>9</th>\n",
       "      <td>13320.0</td>\n",
       "      <td>62.26</td>\n",
       "      <td>15</td>\n",
       "      <td>11384.26</td>\n",
       "    </tr>\n",
       "    <tr>\n",
       "      <th>10</th>\n",
       "      <td>31895.0</td>\n",
       "      <td>78.25</td>\n",
       "      <td>0</td>\n",
       "      <td>31973.25</td>\n",
       "    </tr>\n",
       "    <tr>\n",
       "      <th>11</th>\n",
       "      <td>13850.0</td>\n",
       "      <td>77.29</td>\n",
       "      <td>25</td>\n",
       "      <td>10464.79</td>\n",
       "    </tr>\n",
       "    <tr>\n",
       "      <th>12</th>\n",
       "      <td>19010.0</td>\n",
       "      <td>94.75</td>\n",
       "      <td>0</td>\n",
       "      <td>926057.25</td>\n",
       "    </tr>\n",
       "    <tr>\n",
       "      <th>13</th>\n",
       "      <td>19710.0</td>\n",
       "      <td>75.64</td>\n",
       "      <td>0</td>\n",
       "      <td>19785.64</td>\n",
       "    </tr>\n",
       "    <tr>\n",
       "      <th>14</th>\n",
       "      <td>31900.0</td>\n",
       "      <td>79.78</td>\n",
       "      <td>0</td>\n",
       "      <td>31979.78</td>\n",
       "    </tr>\n",
       "    <tr>\n",
       "      <th>15</th>\n",
       "      <td>20200.0</td>\n",
       "      <td>46.35</td>\n",
       "      <td>25</td>\n",
       "      <td>15196.35</td>\n",
       "    </tr>\n",
       "    <tr>\n",
       "      <th>16</th>\n",
       "      <td>14810.0</td>\n",
       "      <td>80.69</td>\n",
       "      <td>25</td>\n",
       "      <td>11188.19</td>\n",
       "    </tr>\n",
       "    <tr>\n",
       "      <th>17</th>\n",
       "      <td>1655.0</td>\n",
       "      <td>63.27</td>\n",
       "      <td>25</td>\n",
       "      <td>1304.52</td>\n",
       "    </tr>\n",
       "    <tr>\n",
       "      <th>18</th>\n",
       "      <td>6535.0</td>\n",
       "      <td>60.64</td>\n",
       "      <td>5</td>\n",
       "      <td>6268.89</td>\n",
       "    </tr>\n",
       "    <tr>\n",
       "      <th>19</th>\n",
       "      <td>6545.0</td>\n",
       "      <td>77.11</td>\n",
       "      <td>5</td>\n",
       "      <td>6294.86</td>\n",
       "    </tr>\n",
       "  </tbody>\n",
       "</table>\n",
       "</div>"
      ],
      "text/plain": [
       "    order_price  delivery_charges  coupon_discount  order_total\n",
       "0       12200.0             79.89               10     11059.89\n",
       "1        9080.0             62.71                0      9142.71\n",
       "2       10670.0             65.87               10      9668.87\n",
       "3       24800.0             57.61               15     21137.61\n",
       "4        9145.0             75.54               25      6934.29\n",
       "5        7810.0             71.22               10      7100.22\n",
       "6       13700.0             74.84                5     13089.84\n",
       "7        7960.0             52.28                5     10789.79\n",
       "8       25390.0            107.58               10     22958.58\n",
       "9       13320.0             62.26               15     11384.26\n",
       "10      31895.0             78.25                0     31973.25\n",
       "11      13850.0             77.29               25     10464.79\n",
       "12      19010.0             94.75                0    926057.25\n",
       "13      19710.0             75.64                0     19785.64\n",
       "14      31900.0             79.78                0     31979.78\n",
       "15      20200.0             46.35               25     15196.35\n",
       "16      14810.0             80.69               25     11188.19\n",
       "17       1655.0             63.27               25      1304.52\n",
       "18       6535.0             60.64                5      6268.89\n",
       "19       6545.0             77.11                5      6294.86"
      ]
     },
     "execution_count": 87,
     "metadata": {},
     "output_type": "execute_result"
    }
   ],
   "source": [
    "#lets check wheather order_total (after all discounts and delivery charges are applied) is correct or not\n",
    "data[['order_price','delivery_charges','coupon_discount','order_total']].head(20)"
   ]
  },
  {
   "cell_type": "markdown",
   "id": "f61ff43f",
   "metadata": {},
   "source": [
    "order_total=order_price-(order_price*coupon_discount/100)+delivery_charges"
   ]
  },
  {
   "cell_type": "code",
   "execution_count": 88,
   "id": "e99c5231",
   "metadata": {},
   "outputs": [],
   "source": [
    "# lets check first 10 order total values"
   ]
  },
  {
   "cell_type": "code",
   "execution_count": 89,
   "id": "3e6437db",
   "metadata": {},
   "outputs": [
    {
     "name": "stdout",
     "output_type": "stream",
     "text": [
      "order_total at 0 :11059.89\n",
      "order_total at 1 :9142.71\n",
      "order_total at 2 :9668.87\n",
      "order_total at 3 :21137.61\n",
      "order_total at 4 :6934.29\n",
      "order_total at 5 :7100.22\n",
      "order_total at 6 :13089.84\n",
      "order_total at 7 :7614.28\n",
      "order_total at 8 :22958.58\n",
      "order_total at 9 :11384.26\n",
      "order_total at 10 :31973.25\n",
      "order_total at 11 :10464.79\n",
      "order_total at 12 :19104.75\n",
      "order_total at 13 :19785.64\n",
      "order_total at 14 :31979.78\n",
      "order_total at 15 :15196.35\n",
      "order_total at 16 :11188.19\n",
      "order_total at 17 :1304.52\n",
      "order_total at 18 :6268.89\n",
      "order_total at 19 :6294.86\n"
     ]
    }
   ],
   "source": [
    "for i,index in enumerate(range(0,20)):\n",
    "    if  data['order_price'][i] != 0:\n",
    "        order_total=data['order_price'][i]-((data['order_price'][i]*data['coupon_discount'][i])/100)+data['delivery_charges'][i]\n",
    "        print(f\"order_total at {index} :{order_total}\")\n",
    "        \n",
    "    else:\n",
    "        order_total=data['order_price'][i]++data['delivery_charges'][i]\n",
    "        print(f\"order_total at {index} :{order_total}\")"
   ]
  },
  {
   "cell_type": "markdown",
   "id": "edf4d4cf",
   "metadata": {},
   "source": [
    "some of order_total values are incorrect,lets correct them"
   ]
  },
  {
   "cell_type": "code",
   "execution_count": 90,
   "id": "81985afc",
   "metadata": {},
   "outputs": [],
   "source": [
    "final_lst=[]\n",
    "for i,index in enumerate(range(0,len(data['order_price']))):\n",
    "    if data['order_price'][i] !=0:\n",
    "        disc_price=data['order_price'][i]-((data['order_price'][i]*data['coupon_discount'][i])/100)\n",
    "        total_price=disc_price+data['delivery_charges'][i]\n",
    "        total_price=round(total_price,2)\n",
    "        final_lst.append(total_price)\n",
    "    else:\n",
    "        total_price=data['order_price'][i]+data['delivery_charges'][i]\n",
    "        total_price=round(total_price,2)\n",
    "        final_lst.append(total_price)"
   ]
  },
  {
   "cell_type": "code",
   "execution_count": 91,
   "id": "a002a22c",
   "metadata": {},
   "outputs": [
    {
     "data": {
      "text/plain": [
       "[11059.89,\n",
       " 9142.71,\n",
       " 9668.87,\n",
       " 21137.61,\n",
       " 6934.29,\n",
       " 7100.22,\n",
       " 13089.84,\n",
       " 7614.28,\n",
       " 22958.58,\n",
       " 11384.26]"
      ]
     },
     "execution_count": 91,
     "metadata": {},
     "output_type": "execute_result"
    }
   ],
   "source": [
    "final_lst[0:10]"
   ]
  },
  {
   "cell_type": "code",
   "execution_count": 92,
   "id": "41d142f1",
   "metadata": {},
   "outputs": [],
   "source": [
    "data['order_total']=final_lst"
   ]
  },
  {
   "cell_type": "code",
   "execution_count": 93,
   "id": "2c0b6606",
   "metadata": {},
   "outputs": [
    {
     "data": {
      "text/plain": [
       "0    11059.89\n",
       "1     9142.71\n",
       "2     9668.87\n",
       "3    21137.61\n",
       "4     6934.29\n",
       "5     7100.22\n",
       "6    13089.84\n",
       "7     7614.28\n",
       "8    22958.58\n",
       "9    11384.26\n",
       "Name: order_total, dtype: float64"
      ]
     },
     "execution_count": 93,
     "metadata": {},
     "output_type": "execute_result"
    }
   ],
   "source": [
    "data['order_total'][0:10]"
   ]
  },
  {
   "cell_type": "markdown",
   "id": "cf6b3b57",
   "metadata": {},
   "source": [
    "### Outliers Check"
   ]
  },
  {
   "cell_type": "code",
   "execution_count": 94,
   "id": "38fb219a",
   "metadata": {},
   "outputs": [
    {
     "name": "stdout",
     "output_type": "stream",
     "text": [
      "Lower Quantile is: 6388.34\n",
      "upper Quantile is: 17926.88\n",
      "IQR Value of order_total is : 11538.54\n"
     ]
    }
   ],
   "source": [
    "Q1_outlier_check=data['order_total'].quantile(0.25)\n",
    "Q3_outlier_check=data['order_total'].quantile(0.75)\n",
    "print(f'Lower Quantile is: {Q1_outlier_check}')\n",
    "print(f'upper Quantile is: {Q3_outlier_check}')\n",
    "      \n",
    "IQR=Q3_outlier_check - Q1_outlier_check\n",
    "print(f'IQR Value of order_total is : {IQR}')"
   ]
  },
  {
   "cell_type": "code",
   "execution_count": 95,
   "id": "061643da",
   "metadata": {},
   "outputs": [
    {
     "name": "stdout",
     "output_type": "stream",
     "text": [
      "lower_limit_order_total is : -10919.470000000001\n",
      "upper_limit_order_total is : 35234.69\n"
     ]
    }
   ],
   "source": [
    "lower_limit_order_total= Q1_outlier_check -1.5 * IQR\n",
    "upper_limit_order_total= Q3_outlier_check + 1.5 * IQR\n",
    "print(f'lower_limit_order_total is : {lower_limit_order_total}')\n",
    "print(f'upper_limit_order_total is : {upper_limit_order_total}')"
   ]
  },
  {
   "cell_type": "code",
   "execution_count": 96,
   "id": "91be618e",
   "metadata": {},
   "outputs": [
    {
     "data": {
      "text/html": [
       "<div>\n",
       "<style scoped>\n",
       "    .dataframe tbody tr th:only-of-type {\n",
       "        vertical-align: middle;\n",
       "    }\n",
       "\n",
       "    .dataframe tbody tr th {\n",
       "        vertical-align: top;\n",
       "    }\n",
       "\n",
       "    .dataframe thead th {\n",
       "        text-align: right;\n",
       "    }\n",
       "</style>\n",
       "<table border=\"1\" class=\"dataframe\">\n",
       "  <thead>\n",
       "    <tr style=\"text-align: right;\">\n",
       "      <th></th>\n",
       "      <th>order_id</th>\n",
       "      <th>customer_id</th>\n",
       "      <th>date</th>\n",
       "      <th>nearest_warehouse</th>\n",
       "      <th>shopping_cart</th>\n",
       "      <th>order_price</th>\n",
       "      <th>delivery_charges</th>\n",
       "      <th>customer_lat</th>\n",
       "      <th>customer_long</th>\n",
       "      <th>coupon_discount</th>\n",
       "      <th>order_total</th>\n",
       "      <th>season</th>\n",
       "      <th>is_expedited_delivery</th>\n",
       "      <th>distance_to_nearest_warehouse</th>\n",
       "      <th>latest_customer_review</th>\n",
       "      <th>is_happy_customer</th>\n",
       "    </tr>\n",
       "  </thead>\n",
       "  <tbody>\n",
       "    <tr>\n",
       "      <th>308</th>\n",
       "      <td>ORD165713</td>\n",
       "      <td>ID2384157684</td>\n",
       "      <td>2019-11-23</td>\n",
       "      <td>Bakers</td>\n",
       "      <td>[('iStream', 2), ('Candle Inferno', 1)]</td>\n",
       "      <td>585.0</td>\n",
       "      <td>91.79</td>\n",
       "      <td>-37.800798</td>\n",
       "      <td>145.005428</td>\n",
       "      <td>25</td>\n",
       "      <td>530.54</td>\n",
       "      <td>Spring</td>\n",
       "      <td>True</td>\n",
       "      <td>1.361</td>\n",
       "      <td>junk had this thing for less than 2 months. ha...</td>\n",
       "      <td>False</td>\n",
       "    </tr>\n",
       "  </tbody>\n",
       "</table>\n",
       "</div>"
      ],
      "text/plain": [
       "      order_id   customer_id       date nearest_warehouse  \\\n",
       "308  ORD165713  ID2384157684 2019-11-23            Bakers   \n",
       "\n",
       "                               shopping_cart  order_price  delivery_charges  \\\n",
       "308  [('iStream', 2), ('Candle Inferno', 1)]        585.0             91.79   \n",
       "\n",
       "     customer_lat  customer_long  coupon_discount  order_total  season  \\\n",
       "308    -37.800798     145.005428               25       530.54  Spring   \n",
       "\n",
       "     is_expedited_delivery  distance_to_nearest_warehouse  \\\n",
       "308                   True                          1.361   \n",
       "\n",
       "                                latest_customer_review  is_happy_customer  \n",
       "308  junk had this thing for less than 2 months. ha...              False  "
      ]
     },
     "execution_count": 96,
     "metadata": {},
     "output_type": "execute_result"
    }
   ],
   "source": [
    "data[data['order_total']==data['order_total'].min()]"
   ]
  },
  {
   "cell_type": "code",
   "execution_count": 97,
   "id": "d11e4fce",
   "metadata": {},
   "outputs": [
    {
     "data": {
      "text/html": [
       "<div>\n",
       "<style scoped>\n",
       "    .dataframe tbody tr th:only-of-type {\n",
       "        vertical-align: middle;\n",
       "    }\n",
       "\n",
       "    .dataframe tbody tr th {\n",
       "        vertical-align: top;\n",
       "    }\n",
       "\n",
       "    .dataframe thead th {\n",
       "        text-align: right;\n",
       "    }\n",
       "</style>\n",
       "<table border=\"1\" class=\"dataframe\">\n",
       "  <thead>\n",
       "    <tr style=\"text-align: right;\">\n",
       "      <th></th>\n",
       "      <th>order_id</th>\n",
       "      <th>customer_id</th>\n",
       "      <th>date</th>\n",
       "      <th>nearest_warehouse</th>\n",
       "      <th>shopping_cart</th>\n",
       "      <th>order_price</th>\n",
       "      <th>delivery_charges</th>\n",
       "      <th>customer_lat</th>\n",
       "      <th>customer_long</th>\n",
       "      <th>coupon_discount</th>\n",
       "      <th>order_total</th>\n",
       "      <th>season</th>\n",
       "      <th>is_expedited_delivery</th>\n",
       "      <th>distance_to_nearest_warehouse</th>\n",
       "      <th>latest_customer_review</th>\n",
       "      <th>is_happy_customer</th>\n",
       "    </tr>\n",
       "  </thead>\n",
       "  <tbody>\n",
       "    <tr>\n",
       "      <th>335</th>\n",
       "      <td>ORD116440</td>\n",
       "      <td>ID0332546017</td>\n",
       "      <td>2019-12-31</td>\n",
       "      <td>Thompson</td>\n",
       "      <td>[('Lucent 330S', 1), ('iAssist Line', 1), ('Ca...</td>\n",
       "      <td>947691.0</td>\n",
       "      <td>90.82</td>\n",
       "      <td>-37.809368</td>\n",
       "      <td>144.949342</td>\n",
       "      <td>10</td>\n",
       "      <td>853012.72</td>\n",
       "      <td>Summer</td>\n",
       "      <td>True</td>\n",
       "      <td>0.4187</td>\n",
       "      <td>work fine great product and no issues.</td>\n",
       "      <td>True</td>\n",
       "    </tr>\n",
       "  </tbody>\n",
       "</table>\n",
       "</div>"
      ],
      "text/plain": [
       "      order_id   customer_id       date nearest_warehouse  \\\n",
       "335  ORD116440  ID0332546017 2019-12-31          Thompson   \n",
       "\n",
       "                                         shopping_cart  order_price  \\\n",
       "335  [('Lucent 330S', 1), ('iAssist Line', 1), ('Ca...     947691.0   \n",
       "\n",
       "     delivery_charges  customer_lat  customer_long  coupon_discount  \\\n",
       "335             90.82    -37.809368     144.949342               10   \n",
       "\n",
       "     order_total  season  is_expedited_delivery  \\\n",
       "335    853012.72  Summer                   True   \n",
       "\n",
       "     distance_to_nearest_warehouse                  latest_customer_review  \\\n",
       "335                         0.4187  work fine great product and no issues.   \n",
       "\n",
       "     is_happy_customer  \n",
       "335               True  "
      ]
     },
     "execution_count": 97,
     "metadata": {},
     "output_type": "execute_result"
    }
   ],
   "source": [
    "data[data['order_total']==data['order_total'].max()]"
   ]
  },
  {
   "cell_type": "code",
   "execution_count": 98,
   "id": "a78fd165",
   "metadata": {},
   "outputs": [
    {
     "data": {
      "text/html": [
       "<div>\n",
       "<style scoped>\n",
       "    .dataframe tbody tr th:only-of-type {\n",
       "        vertical-align: middle;\n",
       "    }\n",
       "\n",
       "    .dataframe tbody tr th {\n",
       "        vertical-align: top;\n",
       "    }\n",
       "\n",
       "    .dataframe thead th {\n",
       "        text-align: right;\n",
       "    }\n",
       "</style>\n",
       "<table border=\"1\" class=\"dataframe\">\n",
       "  <thead>\n",
       "    <tr style=\"text-align: right;\">\n",
       "      <th></th>\n",
       "      <th>order_id</th>\n",
       "      <th>customer_id</th>\n",
       "      <th>date</th>\n",
       "      <th>nearest_warehouse</th>\n",
       "      <th>shopping_cart</th>\n",
       "      <th>order_price</th>\n",
       "      <th>delivery_charges</th>\n",
       "      <th>customer_lat</th>\n",
       "      <th>customer_long</th>\n",
       "      <th>coupon_discount</th>\n",
       "      <th>order_total</th>\n",
       "      <th>season</th>\n",
       "      <th>is_expedited_delivery</th>\n",
       "      <th>distance_to_nearest_warehouse</th>\n",
       "      <th>latest_customer_review</th>\n",
       "      <th>is_happy_customer</th>\n",
       "    </tr>\n",
       "  </thead>\n",
       "  <tbody>\n",
       "    <tr>\n",
       "      <th>55</th>\n",
       "      <td>ORD442452</td>\n",
       "      <td>ID0582560124</td>\n",
       "      <td>2019-08-26</td>\n",
       "      <td>Nickolson</td>\n",
       "      <td>[('Alcon 10', 2), ('Toshika 750', 2), ('pearTV...</td>\n",
       "      <td>43520.0</td>\n",
       "      <td>62.93</td>\n",
       "      <td>-37.822185</td>\n",
       "      <td>144.978657</td>\n",
       "      <td>5</td>\n",
       "      <td>41406.93</td>\n",
       "      <td>Winter</td>\n",
       "      <td>True</td>\n",
       "      <td>0.8949</td>\n",
       "      <td>was not described accurately phone was labeled...</td>\n",
       "      <td>False</td>\n",
       "    </tr>\n",
       "    <tr>\n",
       "      <th>61</th>\n",
       "      <td>ORD028755</td>\n",
       "      <td>ID0283255338</td>\n",
       "      <td>2019-06-13</td>\n",
       "      <td>Bakers</td>\n",
       "      <td>[('iAssist Line', 2), ('pearTV', 2), ('Thunder...</td>\n",
       "      <td>37150.0</td>\n",
       "      <td>65.32</td>\n",
       "      <td>-37.803982</td>\n",
       "      <td>145.007587</td>\n",
       "      <td>0</td>\n",
       "      <td>37215.32</td>\n",
       "      <td>Winter</td>\n",
       "      <td>True</td>\n",
       "      <td>1.2762</td>\n",
       "      <td>i order google pixel 2xl and it's come google ...</td>\n",
       "      <td>False</td>\n",
       "    </tr>\n",
       "    <tr>\n",
       "      <th>67</th>\n",
       "      <td>ORD158007</td>\n",
       "      <td>ID3106293373</td>\n",
       "      <td>2019-02-22</td>\n",
       "      <td>Thompson</td>\n",
       "      <td>[('iStream', 1), ('Olivia x460', 1), ('Alcon 1...</td>\n",
       "      <td>61619.0</td>\n",
       "      <td>79.39</td>\n",
       "      <td>-37.806607</td>\n",
       "      <td>144.932452</td>\n",
       "      <td>15</td>\n",
       "      <td>52455.54</td>\n",
       "      <td>Summer</td>\n",
       "      <td>False</td>\n",
       "      <td>1.4520</td>\n",
       "      <td>mom loves it i bought this for my mom and she ...</td>\n",
       "      <td>True</td>\n",
       "    </tr>\n",
       "    <tr>\n",
       "      <th>70</th>\n",
       "      <td>ORD122655</td>\n",
       "      <td>ID1725216621</td>\n",
       "      <td>2019-06-28</td>\n",
       "      <td>Thompson</td>\n",
       "      <td>[('Universe Note', 2), ('Thunder line', 1), ('...</td>\n",
       "      <td>655164.0</td>\n",
       "      <td>81.70</td>\n",
       "      <td>-37.804091</td>\n",
       "      <td>144.961911</td>\n",
       "      <td>10</td>\n",
       "      <td>589729.30</td>\n",
       "      <td>Winter</td>\n",
       "      <td>True</td>\n",
       "      <td>1.6176</td>\n",
       "      <td>five stars excellent phone! i do not understan...</td>\n",
       "      <td>True</td>\n",
       "    </tr>\n",
       "    <tr>\n",
       "      <th>156</th>\n",
       "      <td>ORD127141</td>\n",
       "      <td>ID0777789266</td>\n",
       "      <td>2019-03-02</td>\n",
       "      <td>Thompson</td>\n",
       "      <td>[('Lucent 330S', 2), ('pearTV', 1), ('iAssist ...</td>\n",
       "      <td>69685.0</td>\n",
       "      <td>92.70</td>\n",
       "      <td>-37.806827</td>\n",
       "      <td>144.954899</td>\n",
       "      <td>0</td>\n",
       "      <td>69777.70</td>\n",
       "      <td>Summer</td>\n",
       "      <td>True</td>\n",
       "      <td>0.9475</td>\n",
       "      <td>remarkable phone with an unbeatable price. rem...</td>\n",
       "      <td>True</td>\n",
       "    </tr>\n",
       "    <tr>\n",
       "      <th>237</th>\n",
       "      <td>ORD420200</td>\n",
       "      <td>ID2189162941</td>\n",
       "      <td>2019-06-12</td>\n",
       "      <td>Thompson</td>\n",
       "      <td>[('Alcon 10', 1), ('Olivia x460', 1), ('pearTV...</td>\n",
       "      <td>865916.0</td>\n",
       "      <td>92.90</td>\n",
       "      <td>-37.811745</td>\n",
       "      <td>144.956404</td>\n",
       "      <td>15</td>\n",
       "      <td>736121.50</td>\n",
       "      <td>Summer</td>\n",
       "      <td>True</td>\n",
       "      <td>0.8274</td>\n",
       "      <td>five stars great phone</td>\n",
       "      <td>True</td>\n",
       "    </tr>\n",
       "    <tr>\n",
       "      <th>289</th>\n",
       "      <td>ORD339649</td>\n",
       "      <td>ID2207661056</td>\n",
       "      <td>2019-08-16</td>\n",
       "      <td>Thompson</td>\n",
       "      <td>[('Alcon 10', 1), ('Thunder line', 2), ('Unive...</td>\n",
       "      <td>597240.0</td>\n",
       "      <td>79.91</td>\n",
       "      <td>-37.801295</td>\n",
       "      <td>144.945787</td>\n",
       "      <td>5</td>\n",
       "      <td>567457.91</td>\n",
       "      <td>Winter</td>\n",
       "      <td>True</td>\n",
       "      <td>1.2716</td>\n",
       "      <td>this was bought to replace my old candle with ...</td>\n",
       "      <td>True</td>\n",
       "    </tr>\n",
       "    <tr>\n",
       "      <th>299</th>\n",
       "      <td>ORD379975</td>\n",
       "      <td>ID0144730304</td>\n",
       "      <td>2019-01-13</td>\n",
       "      <td>Nickolson</td>\n",
       "      <td>[('iAssist Line', 1), ('Alcon 10', 1)]</td>\n",
       "      <td>96385.0</td>\n",
       "      <td>77.51</td>\n",
       "      <td>-37.819260</td>\n",
       "      <td>144.957538</td>\n",
       "      <td>25</td>\n",
       "      <td>72366.26</td>\n",
       "      <td>Summer</td>\n",
       "      <td>False</td>\n",
       "      <td>1.0590</td>\n",
       "      <td>good quality great price</td>\n",
       "      <td>True</td>\n",
       "    </tr>\n",
       "    <tr>\n",
       "      <th>307</th>\n",
       "      <td>ORD346356</td>\n",
       "      <td>ID0312718298</td>\n",
       "      <td>2019-02-10</td>\n",
       "      <td>Thompson</td>\n",
       "      <td>[('Candle Inferno', 1), ('Thunder line', 2), (...</td>\n",
       "      <td>63500.0</td>\n",
       "      <td>107.18</td>\n",
       "      <td>-37.803331</td>\n",
       "      <td>144.959131</td>\n",
       "      <td>25</td>\n",
       "      <td>47732.18</td>\n",
       "      <td>Spring</td>\n",
       "      <td>True</td>\n",
       "      <td>1.4855</td>\n",
       "      <td>five stars love phone</td>\n",
       "      <td>True</td>\n",
       "    </tr>\n",
       "    <tr>\n",
       "      <th>313</th>\n",
       "      <td>ORD496181</td>\n",
       "      <td>ID0781107765</td>\n",
       "      <td>2019-09-20</td>\n",
       "      <td>Bakers</td>\n",
       "      <td>[('iAssist Line', 1), ('Alcon 10', 1), ('Olivi...</td>\n",
       "      <td>461736.0</td>\n",
       "      <td>87.31</td>\n",
       "      <td>-37.818497</td>\n",
       "      <td>145.015417</td>\n",
       "      <td>25</td>\n",
       "      <td>346389.31</td>\n",
       "      <td>Spring</td>\n",
       "      <td>False</td>\n",
       "      <td>2.0115</td>\n",
       "      <td>so good. have not had time to use it much so f...</td>\n",
       "      <td>True</td>\n",
       "    </tr>\n",
       "    <tr>\n",
       "      <th>335</th>\n",
       "      <td>ORD116440</td>\n",
       "      <td>ID0332546017</td>\n",
       "      <td>2019-12-31</td>\n",
       "      <td>Thompson</td>\n",
       "      <td>[('Lucent 330S', 1), ('iAssist Line', 1), ('Ca...</td>\n",
       "      <td>947691.0</td>\n",
       "      <td>90.82</td>\n",
       "      <td>-37.809368</td>\n",
       "      <td>144.949342</td>\n",
       "      <td>10</td>\n",
       "      <td>853012.72</td>\n",
       "      <td>Summer</td>\n",
       "      <td>True</td>\n",
       "      <td>0.4187</td>\n",
       "      <td>work fine great product and no issues.</td>\n",
       "      <td>True</td>\n",
       "    </tr>\n",
       "    <tr>\n",
       "      <th>363</th>\n",
       "      <td>ORD130025</td>\n",
       "      <td>ID1217532913</td>\n",
       "      <td>2019-11-24</td>\n",
       "      <td>Thompson</td>\n",
       "      <td>[('Olivia x460', 1), ('Thunder line', 1), ('Lu...</td>\n",
       "      <td>98614.0</td>\n",
       "      <td>98.48</td>\n",
       "      <td>-37.818374</td>\n",
       "      <td>144.948643</td>\n",
       "      <td>15</td>\n",
       "      <td>83920.38</td>\n",
       "      <td>Spring</td>\n",
       "      <td>True</td>\n",
       "      <td>0.6495</td>\n",
       "      <td>five stars cool</td>\n",
       "      <td>True</td>\n",
       "    </tr>\n",
       "    <tr>\n",
       "      <th>390</th>\n",
       "      <td>ORD242864</td>\n",
       "      <td>ID3281126642</td>\n",
       "      <td>2019-04-29</td>\n",
       "      <td>Thompson</td>\n",
       "      <td>[('Universe Note', 2), ('iStream', 1), ('Alcon...</td>\n",
       "      <td>37570.0</td>\n",
       "      <td>79.94</td>\n",
       "      <td>-37.804870</td>\n",
       "      <td>144.961308</td>\n",
       "      <td>0</td>\n",
       "      <td>37649.94</td>\n",
       "      <td>Autumn</td>\n",
       "      <td>True</td>\n",
       "      <td>1.5240</td>\n",
       "      <td>nice little tablet. functional and easy to use...</td>\n",
       "      <td>True</td>\n",
       "    </tr>\n",
       "    <tr>\n",
       "      <th>397</th>\n",
       "      <td>ORD057456</td>\n",
       "      <td>ID1404234339</td>\n",
       "      <td>2019-02-18</td>\n",
       "      <td>Bakers</td>\n",
       "      <td>[('iAssist Line', 2), ('iStream', 1), ('Alcon ...</td>\n",
       "      <td>653959.0</td>\n",
       "      <td>66.18</td>\n",
       "      <td>-37.810899</td>\n",
       "      <td>144.996620</td>\n",
       "      <td>5</td>\n",
       "      <td>621327.23</td>\n",
       "      <td>Summer</td>\n",
       "      <td>False</td>\n",
       "      <td>0.1581</td>\n",
       "      <td>awesome i just got this phone in the mail the ...</td>\n",
       "      <td>True</td>\n",
       "    </tr>\n",
       "    <tr>\n",
       "      <th>404</th>\n",
       "      <td>ORD216875</td>\n",
       "      <td>ID0052510917</td>\n",
       "      <td>2019-01-23</td>\n",
       "      <td>Thompson</td>\n",
       "      <td>[('Toshika 750', 2), ('iAssist Line', 1), ('Ca...</td>\n",
       "      <td>87622.0</td>\n",
       "      <td>78.72</td>\n",
       "      <td>-37.809280</td>\n",
       "      <td>144.932047</td>\n",
       "      <td>5</td>\n",
       "      <td>83319.62</td>\n",
       "      <td>Summer</td>\n",
       "      <td>False</td>\n",
       "      <td>1.3740</td>\n",
       "      <td>nice! didnt get from digico but really love th...</td>\n",
       "      <td>True</td>\n",
       "    </tr>\n",
       "    <tr>\n",
       "      <th>455</th>\n",
       "      <td>ORD249776</td>\n",
       "      <td>ID0702351342</td>\n",
       "      <td>2019-12-19</td>\n",
       "      <td>Thompson</td>\n",
       "      <td>[('Candle Inferno', 2), ('Lucent 330S', 2), ('...</td>\n",
       "      <td>454996.0</td>\n",
       "      <td>79.28</td>\n",
       "      <td>-37.804673</td>\n",
       "      <td>144.936501</td>\n",
       "      <td>15</td>\n",
       "      <td>386825.88</td>\n",
       "      <td>Summer</td>\n",
       "      <td>False</td>\n",
       "      <td>1.2872</td>\n",
       "      <td>five stars works like a charm</td>\n",
       "      <td>True</td>\n",
       "    </tr>\n",
       "    <tr>\n",
       "      <th>472</th>\n",
       "      <td>ORD453668</td>\n",
       "      <td>ID0664378466</td>\n",
       "      <td>2019-10-03</td>\n",
       "      <td>Nickolson</td>\n",
       "      <td>[('Candle Inferno', 1), ('Toshika 750', 1), ('...</td>\n",
       "      <td>672832.0</td>\n",
       "      <td>62.82</td>\n",
       "      <td>-37.820156</td>\n",
       "      <td>144.966968</td>\n",
       "      <td>25</td>\n",
       "      <td>504686.82</td>\n",
       "      <td>Autumn</td>\n",
       "      <td>False</td>\n",
       "      <td>0.2860</td>\n",
       "      <td>great smartphone i'm the type of individual th...</td>\n",
       "      <td>True</td>\n",
       "    </tr>\n",
       "    <tr>\n",
       "      <th>495</th>\n",
       "      <td>ORD475510</td>\n",
       "      <td>ID0247417082</td>\n",
       "      <td>2019-07-08</td>\n",
       "      <td>Nickolson</td>\n",
       "      <td>[('Alcon 10', 2), ('iAssist Line', 2)]</td>\n",
       "      <td>386776.0</td>\n",
       "      <td>59.70</td>\n",
       "      <td>-37.817662</td>\n",
       "      <td>144.970405</td>\n",
       "      <td>10</td>\n",
       "      <td>348158.10</td>\n",
       "      <td>Winter</td>\n",
       "      <td>True</td>\n",
       "      <td>0.1282</td>\n",
       "      <td>i bought this phone to send to my sister in .....</td>\n",
       "      <td>False</td>\n",
       "    </tr>\n",
       "  </tbody>\n",
       "</table>\n",
       "</div>"
      ],
      "text/plain": [
       "      order_id   customer_id       date nearest_warehouse  \\\n",
       "55   ORD442452  ID0582560124 2019-08-26         Nickolson   \n",
       "61   ORD028755  ID0283255338 2019-06-13            Bakers   \n",
       "67   ORD158007  ID3106293373 2019-02-22          Thompson   \n",
       "70   ORD122655  ID1725216621 2019-06-28          Thompson   \n",
       "156  ORD127141  ID0777789266 2019-03-02          Thompson   \n",
       "237  ORD420200  ID2189162941 2019-06-12          Thompson   \n",
       "289  ORD339649  ID2207661056 2019-08-16          Thompson   \n",
       "299  ORD379975  ID0144730304 2019-01-13         Nickolson   \n",
       "307  ORD346356  ID0312718298 2019-02-10          Thompson   \n",
       "313  ORD496181  ID0781107765 2019-09-20            Bakers   \n",
       "335  ORD116440  ID0332546017 2019-12-31          Thompson   \n",
       "363  ORD130025  ID1217532913 2019-11-24          Thompson   \n",
       "390  ORD242864  ID3281126642 2019-04-29          Thompson   \n",
       "397  ORD057456  ID1404234339 2019-02-18            Bakers   \n",
       "404  ORD216875  ID0052510917 2019-01-23          Thompson   \n",
       "455  ORD249776  ID0702351342 2019-12-19          Thompson   \n",
       "472  ORD453668  ID0664378466 2019-10-03         Nickolson   \n",
       "495  ORD475510  ID0247417082 2019-07-08         Nickolson   \n",
       "\n",
       "                                         shopping_cart  order_price  \\\n",
       "55   [('Alcon 10', 2), ('Toshika 750', 2), ('pearTV...      43520.0   \n",
       "61   [('iAssist Line', 2), ('pearTV', 2), ('Thunder...      37150.0   \n",
       "67   [('iStream', 1), ('Olivia x460', 1), ('Alcon 1...      61619.0   \n",
       "70   [('Universe Note', 2), ('Thunder line', 1), ('...     655164.0   \n",
       "156  [('Lucent 330S', 2), ('pearTV', 1), ('iAssist ...      69685.0   \n",
       "237  [('Alcon 10', 1), ('Olivia x460', 1), ('pearTV...     865916.0   \n",
       "289  [('Alcon 10', 1), ('Thunder line', 2), ('Unive...     597240.0   \n",
       "299             [('iAssist Line', 1), ('Alcon 10', 1)]      96385.0   \n",
       "307  [('Candle Inferno', 1), ('Thunder line', 2), (...      63500.0   \n",
       "313  [('iAssist Line', 1), ('Alcon 10', 1), ('Olivi...     461736.0   \n",
       "335  [('Lucent 330S', 1), ('iAssist Line', 1), ('Ca...     947691.0   \n",
       "363  [('Olivia x460', 1), ('Thunder line', 1), ('Lu...      98614.0   \n",
       "390  [('Universe Note', 2), ('iStream', 1), ('Alcon...      37570.0   \n",
       "397  [('iAssist Line', 2), ('iStream', 1), ('Alcon ...     653959.0   \n",
       "404  [('Toshika 750', 2), ('iAssist Line', 1), ('Ca...      87622.0   \n",
       "455  [('Candle Inferno', 2), ('Lucent 330S', 2), ('...     454996.0   \n",
       "472  [('Candle Inferno', 1), ('Toshika 750', 1), ('...     672832.0   \n",
       "495             [('Alcon 10', 2), ('iAssist Line', 2)]     386776.0   \n",
       "\n",
       "     delivery_charges  customer_lat  customer_long  coupon_discount  \\\n",
       "55              62.93    -37.822185     144.978657                5   \n",
       "61              65.32    -37.803982     145.007587                0   \n",
       "67              79.39    -37.806607     144.932452               15   \n",
       "70              81.70    -37.804091     144.961911               10   \n",
       "156             92.70    -37.806827     144.954899                0   \n",
       "237             92.90    -37.811745     144.956404               15   \n",
       "289             79.91    -37.801295     144.945787                5   \n",
       "299             77.51    -37.819260     144.957538               25   \n",
       "307            107.18    -37.803331     144.959131               25   \n",
       "313             87.31    -37.818497     145.015417               25   \n",
       "335             90.82    -37.809368     144.949342               10   \n",
       "363             98.48    -37.818374     144.948643               15   \n",
       "390             79.94    -37.804870     144.961308                0   \n",
       "397             66.18    -37.810899     144.996620                5   \n",
       "404             78.72    -37.809280     144.932047                5   \n",
       "455             79.28    -37.804673     144.936501               15   \n",
       "472             62.82    -37.820156     144.966968               25   \n",
       "495             59.70    -37.817662     144.970405               10   \n",
       "\n",
       "     order_total  season  is_expedited_delivery  \\\n",
       "55      41406.93  Winter                   True   \n",
       "61      37215.32  Winter                   True   \n",
       "67      52455.54  Summer                  False   \n",
       "70     589729.30  Winter                   True   \n",
       "156     69777.70  Summer                   True   \n",
       "237    736121.50  Summer                   True   \n",
       "289    567457.91  Winter                   True   \n",
       "299     72366.26  Summer                  False   \n",
       "307     47732.18  Spring                   True   \n",
       "313    346389.31  Spring                  False   \n",
       "335    853012.72  Summer                   True   \n",
       "363     83920.38  Spring                   True   \n",
       "390     37649.94  Autumn                   True   \n",
       "397    621327.23  Summer                  False   \n",
       "404     83319.62  Summer                  False   \n",
       "455    386825.88  Summer                  False   \n",
       "472    504686.82  Autumn                  False   \n",
       "495    348158.10  Winter                   True   \n",
       "\n",
       "     distance_to_nearest_warehouse  \\\n",
       "55                          0.8949   \n",
       "61                          1.2762   \n",
       "67                          1.4520   \n",
       "70                          1.6176   \n",
       "156                         0.9475   \n",
       "237                         0.8274   \n",
       "289                         1.2716   \n",
       "299                         1.0590   \n",
       "307                         1.4855   \n",
       "313                         2.0115   \n",
       "335                         0.4187   \n",
       "363                         0.6495   \n",
       "390                         1.5240   \n",
       "397                         0.1581   \n",
       "404                         1.3740   \n",
       "455                         1.2872   \n",
       "472                         0.2860   \n",
       "495                         0.1282   \n",
       "\n",
       "                                latest_customer_review  is_happy_customer  \n",
       "55   was not described accurately phone was labeled...              False  \n",
       "61   i order google pixel 2xl and it's come google ...              False  \n",
       "67   mom loves it i bought this for my mom and she ...               True  \n",
       "70   five stars excellent phone! i do not understan...               True  \n",
       "156  remarkable phone with an unbeatable price. rem...               True  \n",
       "237                             five stars great phone               True  \n",
       "289  this was bought to replace my old candle with ...               True  \n",
       "299                           good quality great price               True  \n",
       "307                              five stars love phone               True  \n",
       "313  so good. have not had time to use it much so f...               True  \n",
       "335             work fine great product and no issues.               True  \n",
       "363                                    five stars cool               True  \n",
       "390  nice little tablet. functional and easy to use...               True  \n",
       "397  awesome i just got this phone in the mail the ...               True  \n",
       "404  nice! didnt get from digico but really love th...               True  \n",
       "455                      five stars works like a charm               True  \n",
       "472  great smartphone i'm the type of individual th...               True  \n",
       "495  i bought this phone to send to my sister in .....              False  "
      ]
     },
     "execution_count": 98,
     "metadata": {},
     "output_type": "execute_result"
    }
   ],
   "source": [
    "#lets check how many outliers in data\n",
    "outlier_data=data[(data['order_total'] <lower_limit_order_total) | (data['order_total'] >upper_limit_order_total)]\n",
    "outlier_data"
   ]
  },
  {
   "cell_type": "code",
   "execution_count": 99,
   "id": "83529365",
   "metadata": {},
   "outputs": [
    {
     "data": {
      "text/plain": [
       "(18, 16)"
      ]
     },
     "execution_count": 99,
     "metadata": {},
     "output_type": "execute_result"
    }
   ],
   "source": [
    "outlier_data.shape"
   ]
  },
  {
   "cell_type": "markdown",
   "id": "540a6989",
   "metadata": {},
   "source": [
    "### Remove Outliers"
   ]
  },
  {
   "cell_type": "code",
   "execution_count": 100,
   "id": "9e55830b",
   "metadata": {},
   "outputs": [
    {
     "data": {
      "text/plain": [
       "500"
      ]
     },
     "execution_count": 100,
     "metadata": {},
     "output_type": "execute_result"
    }
   ],
   "source": [
    "len(data['order_total'])"
   ]
  },
  {
   "cell_type": "code",
   "execution_count": 101,
   "id": "cafeb093",
   "metadata": {},
   "outputs": [
    {
     "name": "stdout",
     "output_type": "stream",
     "text": [
      "Total no. of records without outliers are: 482\n"
     ]
    }
   ],
   "source": [
    "data=data[(data['order_total']>lower_limit_order_total) & (data['order_total']<upper_limit_order_total)]\n",
    "print(f'Total no. of records without outliers are: {data.shape[0]}')"
   ]
  },
  {
   "cell_type": "markdown",
   "id": "9472587a",
   "metadata": {},
   "source": [
    "## Find out happy customers\n"
   ]
  },
  {
   "cell_type": "code",
   "execution_count": 102,
   "id": "20da3d64",
   "metadata": {},
   "outputs": [
    {
     "data": {
      "text/html": [
       "<div>\n",
       "<style scoped>\n",
       "    .dataframe tbody tr th:only-of-type {\n",
       "        vertical-align: middle;\n",
       "    }\n",
       "\n",
       "    .dataframe tbody tr th {\n",
       "        vertical-align: top;\n",
       "    }\n",
       "\n",
       "    .dataframe thead th {\n",
       "        text-align: right;\n",
       "    }\n",
       "</style>\n",
       "<table border=\"1\" class=\"dataframe\">\n",
       "  <thead>\n",
       "    <tr style=\"text-align: right;\">\n",
       "      <th></th>\n",
       "      <th>order_id</th>\n",
       "      <th>customer_id</th>\n",
       "      <th>date</th>\n",
       "      <th>nearest_warehouse</th>\n",
       "      <th>shopping_cart</th>\n",
       "      <th>order_price</th>\n",
       "      <th>delivery_charges</th>\n",
       "      <th>customer_lat</th>\n",
       "      <th>customer_long</th>\n",
       "      <th>coupon_discount</th>\n",
       "      <th>order_total</th>\n",
       "      <th>season</th>\n",
       "      <th>is_expedited_delivery</th>\n",
       "      <th>distance_to_nearest_warehouse</th>\n",
       "      <th>latest_customer_review</th>\n",
       "      <th>is_happy_customer</th>\n",
       "    </tr>\n",
       "  </thead>\n",
       "  <tbody>\n",
       "    <tr>\n",
       "      <th>1</th>\n",
       "      <td>ORD395518</td>\n",
       "      <td>ID0282825849</td>\n",
       "      <td>2019-12-29</td>\n",
       "      <td>Thompson</td>\n",
       "      <td>[('Thunder line', 1), ('Universe Note', 2)]</td>\n",
       "      <td>9080.0</td>\n",
       "      <td>62.71</td>\n",
       "      <td>-37.802736</td>\n",
       "      <td>144.951118</td>\n",
       "      <td>0</td>\n",
       "      <td>9142.71</td>\n",
       "      <td>Summer</td>\n",
       "      <td>False</td>\n",
       "      <td>1.1621</td>\n",
       "      <td>it keeps dropping calls the wifi don't work th...</td>\n",
       "      <td>False</td>\n",
       "    </tr>\n",
       "    <tr>\n",
       "      <th>3</th>\n",
       "      <td>ORD019224</td>\n",
       "      <td>ID4544561904</td>\n",
       "      <td>2019-12-01</td>\n",
       "      <td>Nickolson</td>\n",
       "      <td>[('Universe Note', 1), ('Alcon 10', 2), ('Oliv...</td>\n",
       "      <td>24800.0</td>\n",
       "      <td>57.61</td>\n",
       "      <td>-37.811416</td>\n",
       "      <td>144.973073</td>\n",
       "      <td>15</td>\n",
       "      <td>21137.61</td>\n",
       "      <td>Summer</td>\n",
       "      <td>False</td>\n",
       "      <td>0.8571</td>\n",
       "      <td>charger did not fit the charger didn't fit.</td>\n",
       "      <td>False</td>\n",
       "    </tr>\n",
       "    <tr>\n",
       "      <th>11</th>\n",
       "      <td>ORD361636</td>\n",
       "      <td>ID0589500304</td>\n",
       "      <td>2019-05-12</td>\n",
       "      <td>Nickolson</td>\n",
       "      <td>[('Lucent 330S', 1), ('pearTV', 2)]</td>\n",
       "      <td>13850.0</td>\n",
       "      <td>77.29</td>\n",
       "      <td>-37.820228</td>\n",
       "      <td>144.957411</td>\n",
       "      <td>25</td>\n",
       "      <td>10464.79</td>\n",
       "      <td>Summer</td>\n",
       "      <td>False</td>\n",
       "      <td>1.0829</td>\n",
       "      <td>great phone great deal! phone in fantastic con...</td>\n",
       "      <td>True</td>\n",
       "    </tr>\n",
       "    <tr>\n",
       "      <th>12</th>\n",
       "      <td>ORD124395</td>\n",
       "      <td>ID0702352304</td>\n",
       "      <td>2019-11-02</td>\n",
       "      <td>Thompson</td>\n",
       "      <td>[('Alcon 10', 1), ('Universe Note', 1), ('pear...</td>\n",
       "      <td>19010.0</td>\n",
       "      <td>94.75</td>\n",
       "      <td>-37.805433</td>\n",
       "      <td>144.941333</td>\n",
       "      <td>0</td>\n",
       "      <td>19104.75</td>\n",
       "      <td>Summer</td>\n",
       "      <td>True</td>\n",
       "      <td>0.9509</td>\n",
       "      <td>the cult's alive i love this little dummy-phon...</td>\n",
       "      <td>True</td>\n",
       "    </tr>\n",
       "    <tr>\n",
       "      <th>13</th>\n",
       "      <td>ORD255642</td>\n",
       "      <td>ID3085953531</td>\n",
       "      <td>2019-12-24</td>\n",
       "      <td>Nickolson</td>\n",
       "      <td>[('iAssist Line', 2), ('Alcon 10', 1), ('pearT...</td>\n",
       "      <td>19710.0</td>\n",
       "      <td>75.64</td>\n",
       "      <td>-37.816166</td>\n",
       "      <td>144.975278</td>\n",
       "      <td>0</td>\n",
       "      <td>19785.64</td>\n",
       "      <td>Summer</td>\n",
       "      <td>True</td>\n",
       "      <td>0.5716</td>\n",
       "      <td>phone had a problem phone seemed great but con...</td>\n",
       "      <td>False</td>\n",
       "    </tr>\n",
       "    <tr>\n",
       "      <th>...</th>\n",
       "      <td>...</td>\n",
       "      <td>...</td>\n",
       "      <td>...</td>\n",
       "      <td>...</td>\n",
       "      <td>...</td>\n",
       "      <td>...</td>\n",
       "      <td>...</td>\n",
       "      <td>...</td>\n",
       "      <td>...</td>\n",
       "      <td>...</td>\n",
       "      <td>...</td>\n",
       "      <td>...</td>\n",
       "      <td>...</td>\n",
       "      <td>...</td>\n",
       "      <td>...</td>\n",
       "      <td>...</td>\n",
       "    </tr>\n",
       "    <tr>\n",
       "      <th>473</th>\n",
       "      <td>ORD175025</td>\n",
       "      <td>ID1132069624</td>\n",
       "      <td>2019-06-12</td>\n",
       "      <td>Thompson</td>\n",
       "      <td>[('Universe Note', 1), ('Thunder line', 1)]</td>\n",
       "      <td>5630.0</td>\n",
       "      <td>66.70</td>\n",
       "      <td>-37.813462</td>\n",
       "      <td>144.944369</td>\n",
       "      <td>10</td>\n",
       "      <td>5133.70</td>\n",
       "      <td>Summer</td>\n",
       "      <td>False</td>\n",
       "      <td>0.2531</td>\n",
       "      <td>like this new s7 ! phone was shipped promptly,...</td>\n",
       "      <td>True</td>\n",
       "    </tr>\n",
       "    <tr>\n",
       "      <th>480</th>\n",
       "      <td>ORD194707</td>\n",
       "      <td>ID0723965013</td>\n",
       "      <td>2019-12-28</td>\n",
       "      <td>Bakers</td>\n",
       "      <td>[('Candle Inferno', 1), ('Toshika 750', 1), ('...</td>\n",
       "      <td>10660.0</td>\n",
       "      <td>75.42</td>\n",
       "      <td>37.804082</td>\n",
       "      <td>145.005281</td>\n",
       "      <td>25</td>\n",
       "      <td>8070.42</td>\n",
       "      <td>Summer</td>\n",
       "      <td>False</td>\n",
       "      <td>1.1020</td>\n",
       "      <td>she loves it . it's the best thing we could of...</td>\n",
       "      <td>True</td>\n",
       "    </tr>\n",
       "    <tr>\n",
       "      <th>481</th>\n",
       "      <td>ORD050839</td>\n",
       "      <td>ID4313862247</td>\n",
       "      <td>2019-12-27</td>\n",
       "      <td>Bakers</td>\n",
       "      <td>[('iStream', 1), ('pearTV', 1), ('Alcon 10', 2)]</td>\n",
       "      <td>24360.0</td>\n",
       "      <td>96.69</td>\n",
       "      <td>-37.819364</td>\n",
       "      <td>144.990224</td>\n",
       "      <td>10</td>\n",
       "      <td>22020.69</td>\n",
       "      <td>Summer</td>\n",
       "      <td>True</td>\n",
       "      <td>1.1320</td>\n",
       "      <td>gecksqd. helpful in understanding different th...</td>\n",
       "      <td>True</td>\n",
       "    </tr>\n",
       "    <tr>\n",
       "      <th>485</th>\n",
       "      <td>ORD213192</td>\n",
       "      <td>ID2325395496</td>\n",
       "      <td>2019-03-28</td>\n",
       "      <td>Bakers</td>\n",
       "      <td>[('iAssist Line', 2), ('Thunder line', 1), ('i...</td>\n",
       "      <td>6930.0</td>\n",
       "      <td>64.75</td>\n",
       "      <td>-37.810688</td>\n",
       "      <td>144.985503</td>\n",
       "      <td>0</td>\n",
       "      <td>6994.75</td>\n",
       "      <td>Summer</td>\n",
       "      <td>True</td>\n",
       "      <td>0.8590</td>\n",
       "      <td>two stars the keyboard so hard to tape in.</td>\n",
       "      <td>False</td>\n",
       "    </tr>\n",
       "    <tr>\n",
       "      <th>492</th>\n",
       "      <td>ORD082002</td>\n",
       "      <td>ID0246439398</td>\n",
       "      <td>2019-08-12</td>\n",
       "      <td>Nickolson</td>\n",
       "      <td>[('Olivia x460', 2), ('Universe Note', 1), ('i...</td>\n",
       "      <td>6200.0</td>\n",
       "      <td>73.85</td>\n",
       "      <td>-37.810542</td>\n",
       "      <td>144.972018</td>\n",
       "      <td>5</td>\n",
       "      <td>5963.85</td>\n",
       "      <td>Summer</td>\n",
       "      <td>False</td>\n",
       "      <td>0.9223</td>\n",
       "      <td>as good as the others, but half the price real...</td>\n",
       "      <td>True</td>\n",
       "    </tr>\n",
       "  </tbody>\n",
       "</table>\n",
       "<p>116 rows × 16 columns</p>\n",
       "</div>"
      ],
      "text/plain": [
       "      order_id   customer_id       date nearest_warehouse  \\\n",
       "1    ORD395518  ID0282825849 2019-12-29          Thompson   \n",
       "3    ORD019224  ID4544561904 2019-12-01         Nickolson   \n",
       "11   ORD361636  ID0589500304 2019-05-12         Nickolson   \n",
       "12   ORD124395  ID0702352304 2019-11-02          Thompson   \n",
       "13   ORD255642  ID3085953531 2019-12-24         Nickolson   \n",
       "..         ...           ...        ...               ...   \n",
       "473  ORD175025  ID1132069624 2019-06-12          Thompson   \n",
       "480  ORD194707  ID0723965013 2019-12-28            Bakers   \n",
       "481  ORD050839  ID4313862247 2019-12-27            Bakers   \n",
       "485  ORD213192  ID2325395496 2019-03-28            Bakers   \n",
       "492  ORD082002  ID0246439398 2019-08-12         Nickolson   \n",
       "\n",
       "                                         shopping_cart  order_price  \\\n",
       "1          [('Thunder line', 1), ('Universe Note', 2)]       9080.0   \n",
       "3    [('Universe Note', 1), ('Alcon 10', 2), ('Oliv...      24800.0   \n",
       "11                 [('Lucent 330S', 1), ('pearTV', 2)]      13850.0   \n",
       "12   [('Alcon 10', 1), ('Universe Note', 1), ('pear...      19010.0   \n",
       "13   [('iAssist Line', 2), ('Alcon 10', 1), ('pearT...      19710.0   \n",
       "..                                                 ...          ...   \n",
       "473        [('Universe Note', 1), ('Thunder line', 1)]       5630.0   \n",
       "480  [('Candle Inferno', 1), ('Toshika 750', 1), ('...      10660.0   \n",
       "481   [('iStream', 1), ('pearTV', 1), ('Alcon 10', 2)]      24360.0   \n",
       "485  [('iAssist Line', 2), ('Thunder line', 1), ('i...       6930.0   \n",
       "492  [('Olivia x460', 2), ('Universe Note', 1), ('i...       6200.0   \n",
       "\n",
       "     delivery_charges  customer_lat  customer_long  coupon_discount  \\\n",
       "1               62.71    -37.802736     144.951118                0   \n",
       "3               57.61    -37.811416     144.973073               15   \n",
       "11              77.29    -37.820228     144.957411               25   \n",
       "12              94.75    -37.805433     144.941333                0   \n",
       "13              75.64    -37.816166     144.975278                0   \n",
       "..                ...           ...            ...              ...   \n",
       "473             66.70    -37.813462     144.944369               10   \n",
       "480             75.42     37.804082     145.005281               25   \n",
       "481             96.69    -37.819364     144.990224               10   \n",
       "485             64.75    -37.810688     144.985503                0   \n",
       "492             73.85    -37.810542     144.972018                5   \n",
       "\n",
       "     order_total  season  is_expedited_delivery  \\\n",
       "1        9142.71  Summer                  False   \n",
       "3       21137.61  Summer                  False   \n",
       "11      10464.79  Summer                  False   \n",
       "12      19104.75  Summer                   True   \n",
       "13      19785.64  Summer                   True   \n",
       "..           ...     ...                    ...   \n",
       "473      5133.70  Summer                  False   \n",
       "480      8070.42  Summer                  False   \n",
       "481     22020.69  Summer                   True   \n",
       "485      6994.75  Summer                   True   \n",
       "492      5963.85  Summer                  False   \n",
       "\n",
       "     distance_to_nearest_warehouse  \\\n",
       "1                           1.1621   \n",
       "3                           0.8571   \n",
       "11                          1.0829   \n",
       "12                          0.9509   \n",
       "13                          0.5716   \n",
       "..                             ...   \n",
       "473                         0.2531   \n",
       "480                         1.1020   \n",
       "481                         1.1320   \n",
       "485                         0.8590   \n",
       "492                         0.9223   \n",
       "\n",
       "                                latest_customer_review  is_happy_customer  \n",
       "1    it keeps dropping calls the wifi don't work th...              False  \n",
       "3          charger did not fit the charger didn't fit.              False  \n",
       "11   great phone great deal! phone in fantastic con...               True  \n",
       "12   the cult's alive i love this little dummy-phon...               True  \n",
       "13   phone had a problem phone seemed great but con...              False  \n",
       "..                                                 ...                ...  \n",
       "473  like this new s7 ! phone was shipped promptly,...               True  \n",
       "480  she loves it . it's the best thing we could of...               True  \n",
       "481  gecksqd. helpful in understanding different th...               True  \n",
       "485         two stars the keyboard so hard to tape in.              False  \n",
       "492  as good as the others, but half the price real...               True  \n",
       "\n",
       "[116 rows x 16 columns]"
      ]
     },
     "execution_count": 102,
     "metadata": {},
     "output_type": "execute_result"
    }
   ],
   "source": [
    "data[data['season']=='Summer']"
   ]
  },
  {
   "cell_type": "code",
   "execution_count": 103,
   "id": "d4c370b9",
   "metadata": {},
   "outputs": [
    {
     "data": {
      "text/plain": [
       "True     345\n",
       "False    137\n",
       "Name: is_happy_customer, dtype: int64"
      ]
     },
     "execution_count": 103,
     "metadata": {},
     "output_type": "execute_result"
    }
   ],
   "source": [
    "satisfaction=data.is_happy_customer.value_counts()\n",
    "satisfaction"
   ]
  },
  {
   "cell_type": "code",
   "execution_count": 104,
   "id": "d5209e53",
   "metadata": {},
   "outputs": [
    {
     "data": {
      "image/png": "[encoded data removed]",
      "text/plain": [
       "<Figure size 1080x360 with 2 Axes>"
      ]
     },
     "metadata": {
      "needs_background": "light"
     },
     "output_type": "display_data"
    }
   ],
   "source": [
    "plt.figure(figsize=(15,5))\n",
    "\n",
    "plt.subplot(121)\n",
    "satisfaction.plot(kind='bar',color=['r','g'],rot=1)\n",
    "plt.xticks(range(2),labels=['Satisfy','Not Satisfy'])\n",
    "plt.ylabel('Counts')\n",
    "plt.title('Customer satisfaction vs Not satisfaction\\n',size=15)\n",
    "\n",
    "\n",
    "plt.subplot(122)\n",
    "plt.pie(satisfaction,labels=['Satisfy','Not Satisfy'],autopct='%.1f%%',explode=[0,0.1],shadow=True)\n",
    "plt.title('Percentage of Customer satisfaction vs Not satisfaction\\n',size=15)\n",
    "plt.show()          "
   ]
  },
  {
   "cell_type": "code",
   "execution_count": null,
   "id": "8cc511e6",
   "metadata": {},
   "outputs": [],
   "source": []
  }
 ],
 "metadata": {
  "kernelspec": {
   "display_name": "Python 3 (ipykernel)",
   "language": "python",
   "name": "python3"
  },
  "language_info": {
   "codemirror_mode": {
    "name": "ipython",
    "version": 3
   },
   "file_extension": ".py",
   "mimetype": "text/x-python",
   "name": "python",
   "nbconvert_exporter": "python",
   "pygments_lexer": "ipython3",
   "version": "3.9.12"
  }
 },
 "nbformat": 4,
 "nbformat_minor": 5
}
